{
 "cells": [
  {
   "cell_type": "code",
   "execution_count": 1,
   "metadata": {},
   "outputs": [],
   "source": [
    "import pandas as pd\n",
    "import numpy as np\n",
    "import matplotlib.pyplot as plt\n",
    "from nltk.tokenize import regexp_tokenize\n",
    "from nltk.corpus import stopwords\n",
    "from nltk.stem import WordNetLemmatizer \n",
    "from string import punctuation\n",
    "from sklearn.feature_extraction.text import CountVectorizer\n",
    "from sklearn.cluster import KMeans"
   ]
  },
  {
   "cell_type": "code",
   "execution_count": 2,
   "metadata": {},
   "outputs": [],
   "source": [
    "data=pd.read_json(r'Narendra Modi Tweets.json')"
   ]
  },
  {
   "cell_type": "code",
   "execution_count": 3,
   "metadata": {},
   "outputs": [],
   "source": [
    "data_en = data[data['Lang']=='en']"
   ]
  },
  {
   "cell_type": "code",
   "execution_count": 4,
   "metadata": {},
   "outputs": [
    {
     "data": {
      "text/html": [
       "<div>\n",
       "<style scoped>\n",
       "    .dataframe tbody tr th:only-of-type {\n",
       "        vertical-align: middle;\n",
       "    }\n",
       "\n",
       "    .dataframe tbody tr th {\n",
       "        vertical-align: top;\n",
       "    }\n",
       "\n",
       "    .dataframe thead th {\n",
       "        text-align: right;\n",
       "    }\n",
       "</style>\n",
       "<table border=\"1\" class=\"dataframe\">\n",
       "  <thead>\n",
       "    <tr style=\"text-align: right;\">\n",
       "      <th></th>\n",
       "      <th>Text</th>\n",
       "      <th>Lang</th>\n",
       "      <th>Source</th>\n",
       "      <th>Time</th>\n",
       "      <th>Retweets</th>\n",
       "    </tr>\n",
       "  </thead>\n",
       "  <tbody>\n",
       "    <tr>\n",
       "      <th>0</th>\n",
       "      <td>Addressed the Global Potato Conclave at Gandhi...</td>\n",
       "      <td>en</td>\n",
       "      <td>Twitter for iPhone</td>\n",
       "      <td>1580222363000</td>\n",
       "      <td>2388</td>\n",
       "    </tr>\n",
       "    <tr>\n",
       "      <th>10</th>\n",
       "      <td>Extremely touched by the lovely #RepublicDay w...</td>\n",
       "      <td>en</td>\n",
       "      <td>Twitter Web App</td>\n",
       "      <td>1580125780000</td>\n",
       "      <td>2591</td>\n",
       "    </tr>\n",
       "    <tr>\n",
       "      <th>100</th>\n",
       "      <td>Tributes to the great Balasaheb Thackeray on h...</td>\n",
       "      <td>en</td>\n",
       "      <td>Twitter for iPhone</td>\n",
       "      <td>1579748075000</td>\n",
       "      <td>8817</td>\n",
       "    </tr>\n",
       "    <tr>\n",
       "      <th>101</th>\n",
       "      <td>India will always remain grateful to Netaji Su...</td>\n",
       "      <td>en</td>\n",
       "      <td>Twitter Media Studio</td>\n",
       "      <td>1579747999000</td>\n",
       "      <td>9996</td>\n",
       "    </tr>\n",
       "    <tr>\n",
       "      <th>102</th>\n",
       "      <td>On 23rd January 1897, Janakinath Bose wrote in...</td>\n",
       "      <td>en</td>\n",
       "      <td>Twitter for iPhone</td>\n",
       "      <td>1579747828000</td>\n",
       "      <td>8500</td>\n",
       "    </tr>\n",
       "  </tbody>\n",
       "</table>\n",
       "</div>"
      ],
      "text/plain": [
       "                                                  Text Lang  \\\n",
       "0    Addressed the Global Potato Conclave at Gandhi...   en   \n",
       "10   Extremely touched by the lovely #RepublicDay w...   en   \n",
       "100  Tributes to the great Balasaheb Thackeray on h...   en   \n",
       "101  India will always remain grateful to Netaji Su...   en   \n",
       "102  On 23rd January 1897, Janakinath Bose wrote in...   en   \n",
       "\n",
       "                   Source           Time  Retweets  \n",
       "0      Twitter for iPhone  1580222363000      2388  \n",
       "10        Twitter Web App  1580125780000      2591  \n",
       "100    Twitter for iPhone  1579748075000      8817  \n",
       "101  Twitter Media Studio  1579747999000      9996  \n",
       "102    Twitter for iPhone  1579747828000      8500  "
      ]
     },
     "execution_count": 4,
     "metadata": {},
     "output_type": "execute_result"
    }
   ],
   "source": [
    "data_en.head()"
   ]
  },
  {
   "cell_type": "markdown",
   "metadata": {},
   "source": [
    "## 1.) CLEAN THE TWEETS"
   ]
  },
  {
   "cell_type": "code",
   "execution_count": 5,
   "metadata": {},
   "outputs": [
    {
     "data": {
      "text/plain": [
       "'Addressed the Global Potato Conclave at Gandhinagar via video-conferencing. \\n\\nShared how Indian farmers are taking… https://t.co/ZXhwJhW5hT Extremely touched by the lovely #RepublicDay wishes @PMBhutan!\\n\\nYou have wonderfully highlighted the unbreakable bo… https://t.co/9RZBawTKS3 Tributes to the great Balasaheb Thackeray on his Jayanti. Courageous and indomitable, he never hesitated from raisi… https://t.co/KXT7U7wQ9P India will always remain grateful to Netaji Subhas Chandra Bose for his bravery and indelible contribution to resis… https://t.co/EWE0BIa91w On 23rd January 1897, Janakinath Bose wrote in his diary, “A son was born at midday.”\\n\\nThis son became a valorous f… https://t.co/B3sHSTU7Nm In line with our focus on speedy and timely completion of projects, we reviewed eleven key projects.\\n\\nThere were al… https://t.co/ktKEHEmdmU We had an excellent Pragati Session today, during which a wide range of policy initiatives and development projects… https://t.co/FXRRUA39H2 Exams, motivation, demotivation, importance of co-curricular activities and more...\\n\\nDo hear ‘Pariksha Pe Charcha 2… https://t.co/jx0QgJWy1n I congratulate the people of India and Nepal on the inauguration of the second Integrated Check Post at Jogbani-Bir… https://t.co/woFL9aUDdH Boosting friendship with Nepal. Watch. https://t.co/tVLuJcCMcO Statehood Day greetings to my sisters and brothers of Tripura. We are proud of Tripura’s exemplary traditions and c… https://t.co/1ph22Wdh2H Best wishes to the people of Meghalaya on their Statehood Day. The people of Meghalaya are known for their kind and… https://t.co/3GcbhpWTvG The Accord with Bodo groups will further protect and popularise the unique culture of the Bodo people. \\n\\nThey will… https://t.co/1mFoTMESK9 On Manipur’s Statehood Day, my greetings to the people of the wonderful state. Manipur is known for its vibrant cul… https://t.co/03Ejl1lBGV I thank my young friends, their parents and outstanding teachers for joining today’s ‘Pariksha Pe Charcha.’\\n\\nBeing… https://t.co/lrg30p6BIL As an early riser (by habit) and a late sleeper (due to work), I am not the ideal person to talk about sleep habits… https://t.co/VJkSzn6rJg The big burden of expectations and how our youth could deal with it… https://t.co/egTiK9UwhS I am pleased that my young friend from Arunachal Pradesh asked me a question on Fundamental Duties.\\n\\nYou must hear… https://t.co/B852Zilodf Technology and gadgets- boon or bane?\\n\\nA topic with strong views on both sides…\\n\\nThis is what we discussed about te… https://t.co/PJm639wo5W India’s youth is passionate and talented.\\xa0\\n\\nTheir passion cannot become a fashion statement for parents!\\xa0\\n\\nMay our… https://t.co/YFFZcchSJZ A few marks cannot define success and failure.\\n\\nThe world has changed a lot.\\n\\nOpportunities are numerous.\\n\\nFind you… https://t.co/BI3x21bwC2 Exams means mood off…\\n\\nA simple question by my young friends, to which I talked about motivation, demotivation and… https://t.co/amAqtbNT3K Bodo Accord inked today stands out for many reasons. \\n\\nIt successfully brings together the leading stakeholders und… https://t.co/F9WpV5ggMf Speaking at the BJP headquarters in Delhi. Watch. https://t.co/E61B7OHSP8 I do not think words can do justice to the rich contribution of @AmitShah Ji as @BJP4India President. During his Pr… https://t.co/rrQxHHQGgg Be it as a young Party Karyakarta, MLA, Minister in Himachal Pradesh or Organisational duties at the Centre, MP and… https://t.co/Sqze5utV34 Congratulations to Shri @JPNadda Ji on being elected @BJP4India President. Wishing him the very best for his tenure… https://t.co/3UB9MU7Opx Amazing #ParikshaPeCharcha2020 programme. Watch. https://t.co/t3S6ckqrX1 Eagerly awaiting today’s #ParikshaPeCharcha2020! \\n\\nIt is always a delight to connect with India’s youth. Their ener… https://t.co/jB56ZreYZe Discussion on exams, @examwarriors and the ‘Pariksha Pe Charcha’ are a part of an endeavour to support our dynamic… https://t.co/Mfia1vo7jj In the run up to ‘Pariksha Pe Charcha 2020’, lakhs of students, parents and teachers shared their inputs and sugges… https://t.co/bnIH30SlfD 11 AM, 20th January...\\n\\nWe will once again have extensive discussions and insightful conversations on a wide range… https://t.co/jJpuilcVgY The news of @AzmiShabana Ji’s injury in an accident is distressing. I pray for her quick recovery. Ushering in a new dawn of peace, harmony and togetherness!\\n\\nToday is a very special day for India. \\n\\nThe Accord wit… https://t.co/FGzHeEBV7N Anguished by the passing away of Shri Ashwini Kumar Chopra Ji. He will be remembered for his contribution to the me… https://t.co/S3QFUEAG7G Committed to the development of the Northeast and it’s citizens!\\n\\nToday’s agreement will greatly help the Bru-Reang… https://t.co/YHOtxmCsRW Speaking on \\'Globalising Indian Thought.\\' Watch https://t.co/Ta82teOBXS I bow to the great Thiruvalluvar on his Jayanti. His rich thoughts and literary works give strength to millions. He… https://t.co/PChyVQbURg Today, on Army Day, attended the ‘At Home’ reception hosted by the Chief of Army Staff. https://t.co/wjtXHB1aPV Our Army is known for its valour and professionalism. It is also respected for its humanitarian spirit. Whenever pe… https://t.co/Nzt13cYWzs Greetings on Pongal! https://t.co/gqDW7HIZ8Y Best wishes on the special occasion of Magh Bihu. https://t.co/4nxCZWZ5IK Thank you for the thoughtful #RepublicDay wishes, @PresidentRuvi. \\n\\nIndia and Israel will keep working together and… https://t.co/EKihZXUUED Vibrant and colourful Uttarayan celebrations at the ‘Statue of Unity.’ Have a look... https://t.co/jz246L3uqX This year’s first #MannKiBaat will be held on a very special day, the 26th of January!\\n\\nShare your special ideas fo… https://t.co/wxpIKozj8W Attended the @raisinadialogue in New Delhi. Over the years, this has emerged as a vibrant forum for discussing impo… https://t.co/HppNMKUP5W Here is my message at the programme marking 50 years of Thuglak. Paid tributes to the versatile and indomitable Cho… https://t.co/Val2MtLbJs Greetings on Uttarayan! https://t.co/GvLdUX0P2n Sharing my message for the National Youth Festival in Lucknow. Highlighted a variety of issues including the though… https://t.co/Ej9ad22iE6 India has millennia old relations with Oman. We look forward to working hand in hand with HM Sayyid Haitham to furt… https://t.co/bMu0nRgUJo Birthday wishes to Meghalaya’s Chief Minister Mr. @SangmaConrad. Wishing him a long and healthy life in service of the people. I heartily congratulate HM Sayyid Haitham bin Tariq al Said on taking over as Sultan of Oman.\\xa0 I am confident that… https://t.co/bjBzld43PG Celebrating the extraordinary contribution of those who worked round the clock to make the Kolkata Port a leading o… https://t.co/OdNOj0bQhq The Central Government is leaving no stone unturned for West Bengal’s development. \\n\\nI urge the West Bengal Governm… https://t.co/t4lWeOCHFY Today, as we aim to further port-led development, we remember the contribution of two leading lights:\\n\\nDr. Syama Pr… https://t.co/HTb6lTgUsB Sharing some glimpses from the programme marking 150 years of the Kolkata Port. https://t.co/yBSNwuld5O Spoke to my young friends on an issue that has become a subject of great discussion. \\n\\nDo hear. https://t.co/fEG0KOVBLV Swami Vivekananda had unparalleled faith in the youth. \\n\\nIt is our youth that will power India’s growth trajectory… https://t.co/OtC0UMaoCo Marking 150 years of Kolkata Port. Watch. https://t.co/gGycbT48P9 The thoughts of Sri Ramakrishna emphasise on furthering harmony and compassion. He believed that a great way to ser… https://t.co/74sGTRmMlp Swami Vivekananda lives in the hearts and minds of crores of Indians, especially the dynamic youth of India for who… https://t.co/nIA1KeNsMb Recent surrenders of militants in Assam and Tripura are welcome steps. \\n\\nI appeal to youth in the Northeast associa… https://t.co/et65vqe8Z6 Special moments from the Belur Math. 🙏🏼 https://t.co/XcgQ6gAt4A The iconic Rabindra Setu will now be lit up, adding to its charm. https://t.co/l3FTsfeH2L The great land of Bengal has provided intellectual leadership to our nation. https://t.co/59oeHXVzSH India’s history isn’t merely about battles and power struggles. \\n\\nEvery part of India has unique art, culture and m… https://t.co/Daz3rDiPdE Iconic words of Gurudev Tagore, which aptly describe India’s greatness. https://t.co/KpNq0GKbOB Today, from the Old Currency Building in Kolkata, dedicated heritage buildings to the nation. \\n\\nSuch efforts are vi… https://t.co/oxuExSv92L After the programmes in Kolkata, on the way to Belur Math by boat. Have a look at the beautiful Rabindra Setu! https://t.co/vJsq8JSQ7J Glad to be in Kolkata, a dynamic and energetic city. Addressing a programme. https://t.co/Opl7D6i7wm Rise of the people’s Padma!\\n\\nCelebrating unsung heroes and outstanding achievements of those working at the grassro… https://t.co/438itaqyKy Yet, there will be a void too! The person who taught me the noble principle of ‘Jan Seva Hi Prabhu Seva’, the vener… https://t.co/MUBKdilFKY I am excited to be in West Bengal today and tomorrow. I am delighted to be spending time at the Ramakrishna Mission… https://t.co/HQyse2I1YH Sultan Qaboos was a true friend of India and provided strong leadership for developing a vibrant strategic partners… https://t.co/XQV5jq0HRV I am deeply saddened to learn about the passing away of His Majesty Sultan Qaboos bin Said al Said. He was a vision… https://t.co/awUQmFlV1U On the special occasion of his 80th birthday, greetings to the versatile K. J. Yesudas Ji. His melodious music and… https://t.co/ZQB53qLlRu Interacted with Nobel laureate Richard Thaler. Got to know interesting aspects of his work. We also discussed aspec… https://t.co/60c3iZOJSd Unwavering in our commitment to become a five trillion dollar economy!\\n\\nToday, had in-depth consultations with econ… https://t.co/tIEjeDGW0y Greetings to EAM @DrSJaishankar Ji on his birthday. Dr. Jaishankar has distinguished himself as an outstanding civi… https://t.co/Xl6wuHnlhK For almost 25 years, thousands of people belonging to the Bru-Reang community had to live in uncomfortable and inhu… https://t.co/gNYE9mGxdw Had an excellent meeting with Mr. \\nTimothy Geithner. We talked about numerous issues relating to economic as well a… https://t.co/FHxlZSF1vW The Union Budget represents the aspirations of 130 crore Indians and lays out the path towards India’s development.… https://t.co/z1NViQCrjS Extremely saddened by the passing away of Lt Gen PN Hoon (retd). He served India with utmost dedication and contrib… https://t.co/LZZBub2PCJ Among the many success stories related to governance in the last few years, here are two interesting ones... https://t.co/bhroFF6RL6 Governance in the last five years has been characterised by:\\n\\nReform with Intent,\\n\\nPerform with Integrity,\\n\\nTransfo… https://t.co/JNglR7KAUQ India’s entrepreneurial zeal will play a vital role in shaping the coming decade. https://t.co/bAJJZcP7OC It was a delight to meet your family and you, @themohanbabu. \\n\\nWe had very good discussions on many issues includin… https://t.co/d1ChdQSNxi Happy to have met Singapore’s Senior Minister and Coordinating Minister for Social Policies, Mr. @Tharman_S. We tal… https://t.co/GBepIuYjKM On his birthday, my greetings and best wishes to the dynamic CM of Himachal Pradesh, @jairamthakurbjp Ji. He has do… https://t.co/cplWdtJqDC Congratulations to Kirloskar Brothers Limited for their centenary celebrations. @KBLPumps https://t.co/Dya6D1dn3F During #MannKiBaat today, I thanked the people of Assam. Here is why... https://t.co/2tLGI9ffn5 Called on Dr. Murli Manohar Joshi Ji and greeted him on his birthday. https://t.co/QbsdpLfxDM I consider myself fortunate to have got the opportunity to work with Dr. Joshi for many years. Like me, several Kar… https://t.co/kRZGGWTPaN Greetings to Dr. Murli Manohar Joshi Ji on his birthday. Joshi Ji has made an indelible contribution to our country… https://t.co/cJCmeY2qlc Today, we mark World Braille Day and reiterate our commitment towards ensuring enhanced communication mechanisms fo… https://t.co/sEaYOQPeB1 Sectors where the application of science, technology and innovation will lead to transformative outcomes:\\n\\nAgricult… https://t.co/AGcm7Nv25c Invigorating governance with latest technology has numerous benefits. https://t.co/30475jrNRL At the core of our vision for New India is technology and logical temperament, which will add strength to our growt… https://t.co/iwEPsfwKTf A roadmap for India’s bright young scientists. \\n\\nInnovate.\\n\\nPatent.\\n\\nProduce.\\n\\nProsper. https://t.co/j2PwuWn4Wf Addressing the Indian Science Congress in Bengaluru. https://t.co/6w9yw8jrpU Let us celebrate those who work towards water conservation. \\n\\nUse #JalShakti4India and share efforts towards conser… https://t.co/mCMEmLaKYS DRDO has many bright minds associated with it. \\n\\nAn organisation like DRDO can make rich contributions to the globa… https://t.co/ZB9TC6Y4YZ Furthering innovation among youngsters. \\n\\nIn Bengaluru, I had the honour of dedicating to the nation five labs for… https://t.co/N5w5WOW7Op Our Government has taken a series of steps towards a vibrant fisheries sector. https://t.co/hqptoxDk9U The NDA Government is fortunate to have been able to take numerous decisions for farmer welfare. https://t.co/2M0rLjfgrY Today is a very special day! \\n\\nThe number of beneficiaries of PM-Kisan Yojana crossed the 8 crore mark. \\n\\nThis init… https://t.co/AjpqN0aqo6 My three requests to citizens:\\n\\nFocus on Fundamental Duties in addition to the Rights as enshrined in our Constitut… https://t.co/Ih195Nel2S CAA manifests India’s ethos of harmony and compassion. \\n\\nSadly, the vested interest groups opposing the Act are now… https://t.co/sQD1mdAxQA Laid the foundation stone for a grand museum in honour of His Holiness Dr. Sree Sree Sree Sivakumara Swamigalu who… https://t.co/LsT8hyzfBt When I first read the ‘#MannKiBaat Charter’ I was happy. It showed how an avid listener has brilliantly encapsulate… https://t.co/OdOzeKFjBe It was an honour to have visited the Sree Siddaganga Mutt in Tumakuru. Over the last several years, this Mutt has m… https://t.co/OITMYw7xyF I thank my sisters and bothers of Tumakuru for the warm welcome. https://t.co/fBF4LBvgy8 Addressing a programme at DRDO in Bengaluru. Watch. https://t.co/vTSJDXTkSg Addressing a public meeting in Tumakuru. https://t.co/vBIUGp0cDg Feeling blessed to be at the Sree Siddaganga Mutt. Watch. https://t.co/HOKtC4Ih48 Done so. Have a great year ahead :) https://t.co/1OfvIq1RtN Great work by our young students.\\n\\nSuch efforts will increase awareness on reducing single use plastic. https://t.co/poBdxPUkXI Very good!\\n\\nHave a wonderful 2020 and keep discovering different parts of #IncredibleIndia. https://t.co/VNENygg2tP Excellent! \\n\\nContinue this momentum in 2020.\\n\\nAlso urge others to travel to 15 places across India. https://t.co/MjIcmvgQTj 2020’s first #MannKiBaat. Tune in. https://t.co/THsN1jZl1K Happy to know.\\n\\nPlease thank your Mother on my behalf. https://t.co/hMQc1KY9aW Birthday wishes to the hardworking CM of Manipur Shri @NBirenSingh Ji. He has been energetically serving Manipur an… https://t.co/88cInH8DuI Creation of the Department of Military Affairs with requisite military expertise and institutionalisation of the po… https://t.co/cTQKEbToIT On 15th August 2019, from the ramparts of the Red Fort, I announced that India will have a Chief of Defence Staff.… https://t.co/EYvTWMo7aj As the first CDS takes charge, I pay homage to all those who have served and laid down their lives for our nation.… https://t.co/i7xSA5FYyw I am delighted that as we begin the new year and new decade, India gets its first Chief of Defence Staff in General… https://t.co/8nWy1wyMPS Lovely compilation!  \\n\\nCovers quite a lot of the progress we achieved in 2019.\\n\\nHere is hoping 2020 marks the conti… https://t.co/RyGPpGC8Xx It is a matter of pride for all Indians to learn about our rich legacy in this sphere. \\n\\nI hope this inspires our y… https://t.co/aeBIqfaXnB Young India is talented and bright. \\n\\nHappy to keep doing whatever we can to create an environment in which our you… https://t.co/oHVbf5fUZI This morning, on #RepublicDay, paid homage at the National War Memorial.\\n\\nIndia will always be grateful to the brav… https://t.co/QzQ4w38i3e Sonny Mehta would be fondly remembered by countless avid readers across the world. He endeared himself to many than… https://t.co/INNRH34Hjr Anguished by the demise of the Speaker of Nagaland’s Assembly, Er. Vikho-o Yhoshu. He was a diligent leader who dev… https://t.co/tfAEUmCQfG Do hear this lucid explanation of aspects relating to CAA and more by @SadhguruJV. \\n\\nHe provides historical context… https://t.co/BljKSNMDxg A request to the people of India:\\n\\nCan we buy locally made products...\\n\\nThis will be a great way to light the lamp… https://t.co/mtEmY2xd24 An interesting comment made me talk at length about India’s rich history as well as current strides in astronomy an… https://t.co/0KAC9jJ69z A remarkable initiative that’s changing lives of the people of Jammu, Kashmir and Ladakh. #MannKiBaat https://t.co/xKcxZxKGsF Every Indian wants to do something good for their fellow citizens. \\n\\nDuring today’s #MannKiBaat I shared anecdotes… https://t.co/8wN7OCYU40 The first two sessions of the 17th Lok Sabha have been outstandingly productive. \\n\\nParliament working till late at… https://t.co/tCL9FaMCgE In three days:\\n\\nA new year. \\n\\nA new decade. \\n\\nWhat is certain is that the coming decade will see those born in the… https://t.co/I4vXFaPrN9 Congratulations to @HemantSorenJMM Ji on taking oath as Jharkhand CM. I assure all possible support from the Centre for Jharkhand’s growth. Some more glimpses from Rajpath today. #RepublicDay https://t.co/qIdn9JsuHU Always wonderful to connect thanks to #MannKiBaat. Tune in. https://t.co/dL6sTidtzC RT @PMOIndia: #MannKiBaat begins shortly. Do tune in. https://t.co/jlCwKJZJrP I consider myself blessed to have got many opportunities to learn from Sri Vishvesha Teertha Swamiji. Our recent me… https://t.co/50XgPybxQe Sri Vishvesha Teertha Swamiji of the Sri Pejawara Matha, Udupi will remain in the hearts and minds of lakhs of peop… https://t.co/SeHGL0bzRE The final #MannKiBaat of 2019 will be held tomorrow at 11 AM. Do join. https://t.co/Bu0N4h1ajN This is a momentous achievement for the urban poor and the middle class. This initiative has been marked by transpa… https://t.co/bx2My5wey3 This is an amazing effort @aditiraval!\\n\\nI am glad that the beauty of Kutch has been creatively showcased. https://t.co/05RfED4YVS Most welcome....enjoy :) https://t.co/uSFlDp0Ogm Like many Indians, I was enthusiastic about #solareclipse2019. \\n\\nUnfortunately, I could not see the Sun due to clou… https://t.co/JQMrH5sjxd In addition to rights, let us give as much importance to our duties as citizens. https://t.co/3L6xdIsFOd India’s diversity strengthens us.\\n\\nWe are proud that so many cultures live happily in India.\\n\\nWe saw some glimpses… https://t.co/rWIWyiBs2h Atal Ji had two very simple benchmarks to assess how a government could contribute towards national progress. \\n\\nWe… https://t.co/5rrWtGCH0X Comprehensive roadmap towards a healthier India. https://t.co/iJpg17whoC In Lucknow today, I had the honour of laying the foundation stone for the Atal Bihari Vajpayee Medical University.… https://t.co/T7ZQPS90uz Inaugurated a statue of Atal Ji in Lucknow. https://t.co/PlmnRqqf8N Strengthening the grassroots for a better tomorrow. \\n\\nRural India is at the core of our water related initiatives. https://t.co/LR0XuyFOzn From a compartmentalised approach to a comprehensive one...\\n\\nOur Government has ushered a paradigm shift in leverag… https://t.co/rPbTsItf4J Five pillars of ensuring India overcomes water shortage. https://t.co/2urES1XqyR The launch of Atal Bhujal Yojana and key guidelines related to it on Atal Ji’s Jayanti is a fitting tribute to him.… https://t.co/WdlNhWuZyY At Parliament House, paid tributes to Atal Ji. https://t.co/yATr0yiL7b India will always be grateful to Pandit Madan Mohan Malaviya for his numerous efforts to make India free. Additiona… https://t.co/qNnqWmDiLl On #RepublicDay, we see glimpses of India’s military and security prowess. \\n\\nOur forces are among the most professi… https://t.co/rmHhvNg0SF This morning, people from all walks of life paid tributes to beloved Atal Ji at ‘Sadaiv Atal.’\\n\\nIndia remembers the… https://t.co/vMIdNKUbDu Addressing a programme in Lucknow, a city very dear to Atal Ji. https://t.co/t9kXzMmStn Merry Christmas! \\n\\nWe remember, with immense joy, the noble thoughts of Jesus Christ. He epitomised spirit of servi… https://t.co/p5W94jUGbv I agree, Mr. Vice President :) \\n\\nGood to see Venkaiah Ji enjoying the beauty of Kutch. \\n\\nI hope it inspires you all… https://t.co/JIxm7hoXAb India will always support Afghanistan in their developmental needs and to fulfil the aspirations of Afghanistan’s p… https://t.co/95XLXypQLs It is always a delight to talk to my friend, President @ashrafghani. \\n\\nCongratulated him and the people of Afghanis… https://t.co/5iOQPOBDiC I thank the people of Jharkhand for having given @BJP4India the opportunity to serve the state for many years. I al… https://t.co/Mhh9ZWh8t1 Here are some glimpses from the #RepublicDay Parade.\\n\\nThis is a day to remember the remarkable individuals who gave… https://t.co/JqkkzRbIhl Congratulations to @HemantSorenJMM Ji and the JMM-led alliance for the victory in the Jharkhand polls. Best wishes… https://t.co/DuYnzegtgp Remembering Chaudhary Charan Singh Ji on his Jayanti. Unwavering when it came to safeguarding the rights of hardwor… https://t.co/Gwi8Qm7ud7 Chag Hanukkah Sameach to the people of Israel. The festivals of Hanukkah and Diwali depict yet another cultural aff… https://t.co/E8UBeGlmFP Thank you Delhi for the immense affection! \\n\\nHere are pictures from today’s rally. https://t.co/hrfAYFhhqV Thank you the greetings on India’s #RepublicDay, President @ibusolih. \\n\\nIt is a matter of immense delight that frie… https://t.co/sz2gCX4cZQ Addressing a huge rally at Ramlila Maidan in Delhi. Watch. https://t.co/Rqi1xduU5T Birthday wishes to Andhra Pradesh CM Shri @ysjagan. Praying for his long and healthy life. Together, we will realise the dream of a $5 Trillion economy. https://t.co/4Vvo934ICk Creating the environment where businesspersons can grow and prosper. https://t.co/Pe5dF19Jr2 We are committed to undertaking labour reforms that enhance the dignity of the workers and contribute to India’s gr… https://t.co/BxiGC07AEE Furthering accountability in the system. https://t.co/ZUxPhuMexL A change in the Companies Act that helps business. https://t.co/FZSRSxpRwO India’s strides in the ‘Ease of Doing Business’ rankings over the last five years have come after much hardwork by… https://t.co/Blp5buIt8m Delighted to address the @ASSOCHAM4India Annual Conference. Congrats to them for #100YearsOfASSOCHAM. https://t.co/mr7HONE4ji Thank you PM Mahinda Rajapaksa for the #RepublicDay wishes. \\n\\nIndia cherishes the deep rooted friendship with Sri L… https://t.co/UP6aGNSg7V We in India are deeply motivated by Gandhi Ji’s emphasis on duties in addition to rights as well as the importance… https://t.co/hkJtSQDPo2 Mahatma Gandhi’s ideals and principles give strength to the entire world. For us, Gandhi-150 is not merely a year l… https://t.co/s7HSl1LM2Y Had excellent exchange of ideas at the second meeting of the National Committee of ‘Gandhi-150’ celebrations. \\n\\nThe… https://t.co/gd6kbuJdz9 India is delighted to host Mr. @antoniocostapm. Our talks today were extremely fruitful, aimed at further deepening… https://t.co/xh9KZZbDmR Dr. Shreeram Lagoo personified versatility and brilliance. Through the years, he enthralled audiences with outstand… https://t.co/IzggVoeQkj My open challenge to the Congress Party, which is shamelessly peddling lies... https://t.co/nxX6oeCceW From Barhait in Jharkhand, which is the land of brave people who have been martyred for truth and justice, I once a… https://t.co/NnBGMfiF9I Today in Jharkhand, I paid tributes to the valorous Sidho, Kanho, Chand and Bhairav. https://t.co/J52toRN3tK Addressing a huge rally in Barhait. Watch. https://t.co/7Q917t5qpd This is the time to maintain peace, unity and brotherhood. It is my appeal to everyone to stay away from any sort o… https://t.co/ymDocJEWoD The need of the hour is for all of us to work together for the development of India and the empowerment of every In… https://t.co/iGTquKHPLm I want to unequivocally assure my fellow Indians that CAA does not affect any citizen of India of any religion. No… https://t.co/WOnVWWKitf The Citizenship Amendment Act, 2019 was passed by both Houses of Parliament with overwhelming support. Large number… https://t.co/jfyedIoJRx Violent protests on the Citizenship Amendment Act are unfortunate and deeply distressing. \\n\\nDebate, discussion and… https://t.co/uLsiLPKBQq The people of Dumka will reject Congress and JMM. They support BJP. Watch my speech. https://t.co/cPSzwq9g8u Congratulations to all those who have been conferred the Padma Awards. The awardees include extraordinary individua… https://t.co/LcAUKQBi5r Tributes to the great Sardar Patel on his Punya Tithi. We remain eternally inspired by his exceptional service to our nation. Interacted with IAF pilots and other IAF personnel in Kanpur. India is proud of their outstanding service! https://t.co/oJl6tW4zub Had the opportunity to visit Atal Ghat and review cleanliness works including the cleaning of the Sisamau Nala. https://t.co/4I00ZK08pi In Kanpur, I paid tributes to the courageous Chandrashekhar Azad. His heroism inspired many and strengthened our fr… https://t.co/pVjwfcAxzT Powered by a holistic thinking process and people centric efforts, we want the ‘Namami Gange’ initiative to embody… https://t.co/YPqpKZd3SD Ganga rejuvenation has been a challenge for decades. We have taken it up on a mission mode.\\xa0\\n\\nI am also confident t… https://t.co/jzbapSQdhS Today’s meeting of the National Ganga Council was an extremely fruitful one. \\n\\nCMs, Ministers, top officials from v… https://t.co/PmCaWWrvaN 2020’s first #MannKiBaat will take place tomorrow, on Republic Day. \\n\\nKeeping in mind the Republic Day celebrations… https://t.co/Z2qrhyOxdO The @BJP4India is proud to be a valued friend and ally of the @Akali_Dal_. Our alliance is not merely a political a… https://t.co/eSrLEjuapd Today, on the 99th Sthapana Diwas of @Akali_Dal_, my greetings and best wishes to all their leaders and Karyakartas… https://t.co/JlV1ui3rWC Excellent interaction with Speaker of the @mvpeoplesmajlis, Mr. @MohamedNasheed and members of the delegation that… https://t.co/rohtj8r9z9 Delighted to meet you, Minister @abdulla_shahid. Glad that we had the opportunity to discuss various aspects of the… https://t.co/5JfxilSyG2 Today we pay homage to the brave personnel who sacrificed their lives while protecting our Parliament. \\n\\nTheir mart… https://t.co/U5qosy2Acl Many congratulations to PM @BorisJohnson for his return with a thumping majority. I wish him the best and look forw… https://t.co/VvWLPjIlLZ On his birthday, my greetings to the humble and affable @drharshvardhan Ji. He has distinguished himself as a hardw… https://t.co/fzUcnh4rbO My assurance to the people of the Northeast... https://t.co/LycG8BhiBN Lies and more lies- this is what the Congress and it’s allies are spreading on CAB.\\n\\nThe CAB affects no citizen of… https://t.co/CQNbPpxSF8 Elaborate manifestos but zero implementation. This is the story of Congress for decades.\\xa0\\n\\nTheir inability to deliv… https://t.co/VMPyegyGFg Apart from robust bilateral cooperation, India and Brazil are also working together at various multilateral forums.… https://t.co/0M7BcPzZPo Thank you Dhanbad for the affection.\\n\\nBJP is committed to fulfil the aspirations of Jharkhand\\'s youth. https://t.co/yG4LNoGlMM There is great appreciation for BJP’s development agenda in Dhanbad. Watch. https://t.co/IdpvCpNT1L The Central Government and I are totally committed to constitutionally safeguard the political, linguistic, cultura… https://t.co/hNh0BoArdy I want to assure my brothers and sisters of Assam that they have nothing to worry after the passing of #CAB. \\n\\nI wa… https://t.co/VPsj5t5opd Greetings to Shri Sharad Pawar Ji on his birthday. Praying for his long and healthy life. @PawarSpeaks The third phase of Jharkhand polls will take place today. \\n\\nUrging all those whose seats go to the polls today to v… https://t.co/ZuIrKfjzCA A landmark day for India and our nation’s ethos of compassion and brotherhood!\\n\\nGlad that the #CAB2019 has been pas… https://t.co/gVXUBPbO1N Birthday greetings to our remarkable former President and statesman, Shri Pranab Mukherjee. He has served India wit… https://t.co/0Sdy5awbax Today’s talks with President @jairbolsonaro covered sectors such as energy, healthcare, technology, animal husbandr… https://t.co/KJqDevrHA8 Subramania Bharathi believed in justice and equality above everything else. He once said, \"If even one single man s… https://t.co/qNwSq757IH Remembering the great Subramania Bharathi on his Jayanti. Respectfuly known as ‘Mahakavi Bharathiar’, he is a symbo… https://t.co/02EXlXo2fK I am overjoyed on the unanimous passage of The Constitution (One Hundred and Twenty-Sixth Amendment) Bill, 2019 tha… https://t.co/3AoutJSQjC Met Shri @ArunSinghbjp Ji and Shri KC Ramamurthy Ji. Both have taken oath as Rajya Sabha members. Wishing them the… https://t.co/MoLby1j5TY Had a very good interaction with Shri PJ Kurien and Shri N. Balagopal of the P N Panicker Foundation. https://t.co/XGEBxZczKK I would like to specially applaud Home Minister @AmitShah Ji for lucidly explaining all aspects of the Citizenship… https://t.co/hpSfJgWdcM Delighted that the Lok Sabha has passed the Citizenship (Amendment) Bill, 2019 after a rich and extensive debate. I… https://t.co/6Ze2ZsHObF Thank you Jharkhand! \\n\\nPeople from all sections of society joined the rallies in Barhi and Bokaro. \\n\\nHere are some… https://t.co/QLNIO1o9K4 Today’s meeting with President @jairbolsonaro is our third in the last eight months. \\n\\nThis reflects the topmost pr… https://t.co/8ValJaZfZO I thank the people of Karnataka for placing their faith in @BJP4India. \\n\\nI congratulate CM @BSYBJP, team of Ministe… https://t.co/5i4bEJzEYI Speaking at a huge rally in Bokaro. Watch. https://t.co/PmUDTCmhS7 Happy to be in Jharkhand again. Watch my speech in Barhi. https://t.co/tajppckrMT Birthday wishes to Mrs. Sonia Gandhi Ji. Praying for her long life and good health. Our Government is leaving no stone unturned to develop the Northeast. In this context, urged top police officials f… https://t.co/qlq40uv092 During the DGP/IGP Conference, emphasised on regular sharing of best practices to make policing more effective. Als… https://t.co/97XdrLSzeT The 54th DGP/IGP Conference was a fruitful one. The discussions were extensive, comprehensive and covered many aspe… https://t.co/jyDJs8I768 In Pune, I met former Union Minister Arun Shourie Ji. Enquired about his health and had a wonderful interaction wit… https://t.co/ubzitR7WOU The fire in Delhi’s Anaj Mandi on Rani Jhansi Road is extremely horrific. My thoughts are with those who lost their… https://t.co/dKR07HHTIU Birthday greetings to one of India’s most respected statesmen, Shri Parkash Singh Badal Sahab. He has devoted his e… https://t.co/wSlWupTZzi Had an extensive interaction with faculty and researchers at the Indian Institute of Science Education and Research… https://t.co/R4wMXBXJnC On Armed Forces Flag Day we salute the indomitable courage of our forces and their families. \\n\\nI also urge you to c… https://t.co/iHuNecvH0V Through a video message, addressed the Ekal Vidyalaya Sangathan. Congratulated them on crossing 1 lakh schools acro… https://t.co/mEjK338c5v Happy to have met @MauritiusPM @PKJugnauth in Delhi. We had a great discussion, covering multiple subjects. https://t.co/GH7wP7sjcl Outcome based, result oriented approach to improve governance processes. #HTLS2019 https://t.co/tPcCKVqD5I World class infrastructure for a better tomorrow. #HTLS2019 https://t.co/YYNKbUAoJY Four essentials for a better tomorrow. #HTLS2019 https://t.co/kWtWbbLH7i There is a paradigm shift in the national discourse.\\n\\nGone are the days of politics of promises.\\n\\nWe are guided by… https://t.co/gZqxtXwgx9 Bringing a better tomorrow by furthering grassroots level development in the most remote and backward areas.\\n\\nYou w… https://t.co/8h0y1GlGiI Delighted to address the @htTweets Leadership Summit. #HTLS2019 https://t.co/CTBCtYsvZ1 Yesterday in Parliament, I had the opportunity to meet Padma Shri S. L. Bhyrappa Ji and Jnanpith Award recipient Ch… https://t.co/uJwE1ZJT1y Exams are approaching and so is Pariksha Pe Charcha! \\n\\nLet us keep working together to ensure stress free examinati… https://t.co/zLLfmsSL8A A wonderful example of @makeinindia, this brilliant Fast Interceptor Craft will enhance prosperity and security for… https://t.co/97h5Nmyd3g Maldives is a valued friend. We will always work to further enhance the bond between our nations. \\n\\nThere is immens… https://t.co/3N40hKmekY On the occasion of Navy Day, attended the ‘At Home’ reception in New Delhi. https://t.co/7CB8OKFXNy RT @DrSJaishankar: The Embassy representative has rushed to the site. A 24-hour emergency hotline +249-921917471 has been set up by @EoI_Kh… Anguished by the blast in a ceramic factory in Sudan, where some Indian workers have lost their lives and some are… https://t.co/NttAnCTmY7 Boosting India-Maldives friendship. Watch. https://t.co/cS2YWywkYP On Navy Day, we salute our courageous navy personnel. Their valuable service and sacrifice have made our nation str… https://t.co/DWEphMI3rs Some more glimpses from the rallies in Jharkhand today. @BJP4Jharkhand https://t.co/nTVZh05P2i Thank you Jharkhand for the affection! \\n\\nHere are glimpses from today’s rallies in Khunti and Jamshedpur. \\n\\nThe peo… https://t.co/qAHUQIOki3 Speaking at a rally in Jamshedpur. Watch. https://t.co/MLeXIuuS6d Today, on International Day of Persons with Disabilities we reaffirm our commitment to keep working towards an incl… https://t.co/qrYwhp0WbL Do have a look at this thread. \\n\\nIt will surely motivate you to pack your bags and travel across India! https://t.co/nLMsgKiBEC Invigorating the India-Sweden friendship with closer cooperation in innovation and technology.\\xa0\\n\\nHis Majesty King C… https://t.co/osWoYasieL Delighted to meet Their Majesties King Carl XVI Gustaf and Queen Silvia. \\n\\nWe had extensive discussions on boosting… https://t.co/vMHhFm17L8 Addressing the press with President @jairbolsonaro. Watch. https://t.co/4f4pJscRnq Greetings to all BSF personnel and their families on BSF’s Raising Day. This force has been diligently protecting o… https://t.co/hAiQ2s2xZW Best wishes to my sisters and brothers of Nagaland on their Statehood Day. This state is known for its great cultur… https://t.co/gZxVLCOxDn Had a wonderful interaction with Mr. Toshimitsu Motegi, Minister for Foreign Affairs and Mr. Taro Kono, Minister of… https://t.co/gCMbFKQVX6 During the last six months, we have taken numerous decisions that have furthered development, accelerated social em… https://t.co/FCjU2qayqV Inspired by the motto of ‘Sabka Saath, Sabka Vikas, Sabka Vishwas’ and with the blessings of 130 crore Indians, the… https://t.co/t9I5Lv4BL7 झारखंड विधानसभा चुनाव के लिए आज मतदान का पहला चरण है। सभी मतदाताओं से मेरा अनुरोध है कि वे अपना वोट जरूर डालें।\\n\\nPh… https://t.co/iJ8H3UZYwM Had in-depth conversations with President @GotabayaR on aspects relating to security. The menace of terror has plag… https://t.co/3DxGYEyKoL Sri Lanka is at the core of our ‘Neighbourhood First’ policy and Sagar doctrine. \\n\\nI am glad that our efforts, be i… https://t.co/RBfCSWDpR3 President @GotabayaR,\\n\\nToday’s talks were very productive. \\n\\nWe exchanged views on many bilateral and global subjec… https://t.co/I6x0RRtfV2 Mr. Yasuhiro Nakasone’s contribution to the enrichment of our bilateral relations is valuable. \\n\\nHe will be remembe… https://t.co/u2pbq2Cz8I Condolences on the demise of eminent statesman and former Prime Minister of Japan, Mr. Yasuhiro Nakasone.\\n\\nWe will… https://t.co/9ZucrkpPAp Joint press meet with President @GotabayaR. Watch. https://t.co/eI65NrakDM Greetings on National Voters Day. \\n\\nWe express gratitude to ECI for their many efforts towards making our electoral… https://t.co/aXtUPS7Pqv Happy to receive @GotabayaR on his first overseas visit as the President of Sri Lanka. \\n\\nHis visit is a testimony t… https://t.co/7ege9d4RXN Congratulations to Uddhav Thackeray Ji on taking oath as the CM of Maharashtra. I am confident he will work diligen… https://t.co/kv8kua8FDR The advanced Cartosat-3 will augment our high resolution imaging capability. ISRO has once again made the nation proud! I heartily congratulate the entire @isro team on yet another successful launch of PSLV-C47 carrying indigenous Cart… https://t.co/tUr9CkWKJu Birthday wishes to my Cabinet colleague @JoshiPralhad Ji. He is a dedicated leader who has been continuously servin… https://t.co/7MgGyZ73na For seven decades, the people of Delhi faced a challenge that our Government had the opportunity of recently solvin… https://t.co/79q25ZRJRX Working with a futuristic vision for the betterment of people irks many. But, we are unwavering in our efforts and… https://t.co/ucxfQuKVFz To suit their vested political interests, artificial logics of fear were created. \\n\\nThe ‘Nation First’ spirit has c… https://t.co/gA1vNETg7L There were expectations that India will emerge out of past problems, which were dragging on for decades. \\n\\nOur NDA… https://t.co/HR9VtC6SyW From ‘nation wants to know’ (about scams, loot, plunder, terror attacks, misgovernance) five years ago to Nation Fi… https://t.co/KTFgWUaCDk Delighted to be at the #RepublicSummit. Watch my speech. https://t.co/PNj3pb5ovt Looking forward to being at the #RepublicSummit. \\n\\nWill be speaking at the Summit shortly. @republic https://t.co/RRMBjpVUo4 My dear friend Bibi, \\n\\nThank you for your message on India’s #ConstitutionDay. \\n\\nIsrael is a cherished strategic pa… https://t.co/eEXN42fsYp Namaste Dear @PresidentRuvi,\\n\\nThank you for your warm greetings on India’s #ConstitutionDay. \\n\\nWe remember your vis… https://t.co/RU7wx4X15D Speaking in Parliament on #ConstitutionDay. Watch https://t.co/snTemTIFze The colours of India!\\n\\nDelighted to interact with young friends from all over the nation. They would be taking part… https://t.co/SgD3LxwEP5 Immense support for BJP across Jharkhand. Watch from Gumla. https://t.co/vXNewaoLh7 Addressing a rally in Daltonganj. Watch. https://t.co/vfF3tQl07J Will be campaigning in Jharkhand today. Looking forward to being among the people of this great state. Today’s rall… https://t.co/5eLXqU6HRi Greetings to Tripura CM Shri Biplab Kumar Deb on his birthday. He is assiduously working towards the progress of Tr… https://t.co/tiYOWcWTXz One more notable aspect of the Conference of Governors and Lt. Governors was insightful reports shared by five sub-… https://t.co/oIL3C3RjXJ Deliberations continued at the Conference of Governors and Lt. Governors. I am extremely glad that this conference… https://t.co/gzeLJ0lBFn On NCC Day, I had an excellent interaction with young NCC Cadets.\\n\\nThey shared their learnings and experiences from… https://t.co/spl7UPsEbS My young friends, \\n\\nAre you ready to devote one week in December towards getting fitter? #MannKiBaat https://t.co/nAGa70RZBy 12 rivers and 12 years.\\n\\nToday during #MannKiBaat we discussed a unique spiritual gathering that deepens our connec… https://t.co/5pBLj2RlBq Here is what we all can learn from Dharchula in Uttarakhand…\\n\\nPassionate citizens, pride towards culture and the po… https://t.co/CQkbt9LDjr 9th of November, the day 130 crore Indians once again showed their unwavering faith in peace and brotherhood.\\n\\nIt w… https://t.co/MaJFqUlLTm We bow to Guru Tegh Bahadur Ji on the day of his martyrdom. Inspired by the noble thoughts of the venerable Sikh Gu… https://t.co/jjvSEWES0I Kailash Joshi Ji was a stalwart who made a strong contribution towards Madhya Pradesh’s growth. He worked hard to s… https://t.co/SyzyMsjBsy Discussing a wide range of issues during #MannKiBaat today. Tune in. https://t.co/nAC8CaIGBB RT @PMOIndia: #MannKiBaat begins shortly. Do hear. https://t.co/e0612ZZv2d Do tune in tomorrow at 11 AM. #MannKiBaat https://t.co/gSVHx6QTs9 As Chancellors of Universities, Governors become sources of inspiration for our dynamic youth. \\n\\nThe insights, expe… https://t.co/8YkxkKuGJw Inspired by the principles outlined in our great Constitution, called upon respected Governors to keep working for… https://t.co/hP7JudjcOq The 50th Conference of Governors and Lt. Governors witnessed outstanding discussions on several subjects. https://t.co/I2ul8lNFSa Birthday greetings to the dynamic @loksabhaspeaker Shri @ombirlakota Ji. He presides over the House with great ener… https://t.co/hSKwCCj771 Leaving for Rashtrapati Bhavan to take part in the Conference of Governors and Lt. Governors, the 50th such confere… https://t.co/1VffItktGB Congratulations to @Dev_Fadnavis Ji and @AjitPawarSpeaks Ji on taking oath as the CM and Deputy CM of Maharashtra r… https://t.co/8blHm5xAhT Attended a meeting of the Shree Somnath Trust. https://t.co/Lx9L7b2fB0 Addressing the Accountants General and Dy. Accountants General Conclave. https://t.co/TftZ4Flfkw A warm welcome to President @jairbolsonaro! \\n\\nWe are delighted to host him and we look forward to his taking part i… https://t.co/c472fgNUwK Congratulations and best wishes to Prime Minister Mahinda Rajapaksa. I look forward to working closely with him for… https://t.co/8Np7wx2h1f Congratulations to Agatha and Patrick. Best wishes to the newlyweds. \\n\\nCongratulations also to your family on this… https://t.co/5VdWqPsLmm Had an excellent interaction with my friend, @HonTonyAbbott. Great to see his passion and energy on issues he belie… https://t.co/9McBIrze6g A house does not mean merely  four walls. It is the place where dreams take shape and aspirations get wings. \\n\\nPMAY… https://t.co/HWCReOEu8V For millions of Indians,\\xa0Rani Lakshmibai\\xa0personifies courage and fearlessness. Patriotic and uncompromising when it… https://t.co/ZlgH0wTquo I offer my deepest condolences to HH Sheikh Khalifa bin Zayed Al Nahyan, President of the UAE, on the demise of HH… https://t.co/Kt2aqFlgbt Tributes to our former PM Smt. Indira Gandhi Ji on her birth anniversary. Wonderful meeting with Mr. @BillGates. Always a delight to interact with him on various subjects. Through his innov… https://t.co/VlvAwPgnZI Speaking in the Rajya Sabha. Watch. https://t.co/arafRrFPqk May the Winter Session of Parliament be a productive one. https://t.co/nsY4FNpxoW Birthday wishes to Madhya Pradesh Chief Minister Shri Kamal Nath Ji. I pray for his long and healthy life. @OfficeOfKNath Had a very good NDA meeting. Our alliance represents India’s diversity and the aspirations of 130 crore Indians. To… https://t.co/Pl6EpatEjz Had an extensive meeting with the @BJP4India Parliamentary Party. Our Party will utilise the upcoming Parliamentary… https://t.co/s0qVfD5aUJ Attended the All-Party Meeting earlier today. This time, we mark the 250th session of the Rajya Sabha. In both Hous… https://t.co/1h3dIwfFrJ I also congratulate the people of Sri Lanka for the successful conduct of the elections. Samanyu Pothuraju’s achievements in mountain climbing are extraordinary. Interacting with him, I got to know that h… https://t.co/1CAwR40j0H Congratulations @GotabayaR on your victory in the Presidential elections.\\n\\nI look forward to working closely with y… https://t.co/JYmxCJpTEQ Had a wonderful interaction with leaders and MPs across party lines this evening. \\n\\nWe look forward to a productive… https://t.co/E2AZIbmtpk I would like to specially thank the people and Government of Brazil for the excellent hospitality during this year’… https://t.co/fTSTHU8XMI The BRICS Summit in Brazil has been a very productive one. We had fruitful dialogues on cementing ties in trade, in… https://t.co/CR7wZwBVLx It was a delight to interact with my friend, President @CyrilRamaphosa during the BRICS Summit. We discussed a wide… https://t.co/m2ktMfPST2 I also suggested:\\n\\nA working group to share best practices from our respective small and medium enterprises. \\n\\nStre… https://t.co/m3qnvn91CS At the interaction with BRICS Business Council and NDB I made the following suggestions:\\n\\nCharting a roadmap for In… https://t.co/aUHesJoEOI Addressing the Dialogue with BRICS Business Council and New Development Bank. https://t.co/P1cqBGBBfL Tanish Goel personifies the spirit of hardwork, dedication and innovation. His passion towards saving lives is evid… https://t.co/eRWSWfgzqw Addressing the BRICS Plenary Session. https://t.co/t8ZZkfOrQW Tributes to our former PM Pandit Jawaharlal Nehru on his birth anniversary. Addressing the BRICS Business Council. Watch. https://t.co/O4uNMHHzH0 Held talks with President Xi Jinping. Several subjects pertaining to deepening bilateral cooperation were discussed… https://t.co/bUX1RoX5C6 Met President @jairbolsonaro on the sidelines of the BRICS Summit in Brazil. Grateful to him and the people of Braz… https://t.co/WlS4qnTFjW Had an excellent meeting with President Putin. During our talks, we reviewed the full range of India-Russia relatio… https://t.co/QkhEcPalqi Suneetha Murje Prabhu is making a valuable contribution as far as lowering vector borne diseases in India is concer… https://t.co/zXL3U59vFF Reached Brazil to take part in the BRICS Summit. Will also meet various world leaders during this visit. \\n\\nI am sur… https://t.co/azxGz988st The visit to Brazil will give me an opportunity to hold talks with President @jairbolsonaro on ways to deepen the I… https://t.co/WzOHHWvb5r On the sidelines of the BRICS Summit, I would be addressing the BRICS Business Forum and interacting with BRICS Bus… https://t.co/1IJHmtcz3z I would be taking part in this year’s BRICS Summit being held in Brazil on 13th and 14th November. The Summit’s the… https://t.co/9JPyM3iWS0 Today, on the very special occasion of the 550th Prakash Parv of Shri Guru Nanak Dev Ji, my greetings to everyone.… https://t.co/Q9eMvAU1ue Looking forward to this month’s #MannKiBaat, which will take place on the 24th. \\n\\nDial 1800-11-7800 to record your… https://t.co/cX1hF4JBkf Birthday greetings to Nagaland’s hardworking CM, Mr. @Neiphiu_Rio. One of the senior most leaders from the Northeas… https://t.co/5ra3qhKZaA Sivabharathi Anbu Bharathi is doing excellent work in agriculture, particularly helping rice farmers. \\n\\nHe has achi… https://t.co/jkMBak6PtM Shri TN Seshan was an outstanding civil servant. He served India with utmost diligence and integrity. His efforts t… https://t.co/oTVP2WWezk Reviewed the situation in the wake of cyclone conditions and heavy rain in parts of Eastern India. \\n\\nSpoke to WB CM… https://t.co/jqR0gOhDeg Yesterday, I was delighted to have got the opportunity to inaugurate the Kartarpur corridor and attend other progra… https://t.co/dONCflJKmE Greetings on Milad-Un-Nabi. Inspired by the thoughts of Prophet Muhammad, may this day further the spirit of harmon… https://t.co/yYkYlkAoNz My address to the nation. https://t.co/xeMEuOyun0 I am humbled and honoured that the SGPC has conferred the ‘Kaumi Seva Puraskar’ to me. \\n\\nI bow to the venerable Shr… https://t.co/rL58ItulcZ The Kartarpur corridor will deepen the connect between lakhs of pilgrims and Shri Guru Nanak Dev Ji. \\n\\nIt is my hon… https://t.co/YBMuVuljZP Saving people from floods and frauds….this is what Sagnik Anupam is passionate about.\\n\\nHe has effectively used tech… https://t.co/rrWwICMpdC A commemorative coin and stamp was released in the honour of Shri Guru Nanak Dev Ji. https://t.co/3AMCk2XNL4 The calm and peace maintained by 130 crore Indians in the run-up to today’s verdict manifests India’s inherent comm… https://t.co/OAp7hep33A The halls of justice have amicably concluded a matter going on for decades. Every side, every point of view was giv… https://t.co/5ydmDs1da6 SC’s Ayodhya Judgment is notable because:\\n\\nIt highlights that any dispute can be amicably solved in the spirit of d… https://t.co/HX9lx0HWn9 The Honourable Supreme Court has given its verdict on the Ayodhya issue. This verdict shouldn’t be seen as a win or… https://t.co/Wr1qWtn9uA Richard Joseph is amazing! He has provided an affordable and environment friendly solution to controlling pests. Hi… https://t.co/9GEm3pLxJ4 The world bows to Shri Guru Nanak Dev Ji. Watch from Dera Baba Nanak. https://t.co/UHKFTNDWyq Blessed morning at the Shri Gurudwara Ber Sahib in Sultanpur Lodhi. https://t.co/1lpwHRZbLT Congratulations @PKJugnauth on your electoral victory.\\n\\nWe have worked closely together to strengthen fraternal rel… https://t.co/rHjTxs5bVX Interacting with citizens from RWAs of Delhi. Watch. https://t.co/lXGIBJGih4 The mandate people blessed our team with has been unseen for decades. A full five year government coming back to of… https://t.co/Hoo2cPm7Va Raghav Puri’s works include using AI to ensure better study of history as well as a project to help Alzheimer’s pat… https://t.co/6aQbhCbXMi To empower so many Indians, especially women has been one of the most satisfying efforts of our tenure. The credit… https://t.co/Q6GTOF48ee My friend @RayDalio, the trolling after these words of praise would give you the best opportunity to test your medi… https://t.co/d8uMd5zg1T For Advani Ji, public service has always been associated with values. Not once has he compromised on the core ideol… https://t.co/VGFurZVEEh Shri LK Advani Ji toiled for decades to give shape and strength to the @BJP4India. If over the years, our party has… https://t.co/0xAaCbrGXk Scholar, statesman and one of the most respected leaders, India will always cherish the exceptional contribution of… https://t.co/4pgo3n9wIy The 4 wheels on which India’s development trajectory is taking shape. https://t.co/RdmNP9EV97 Here is a type of competition between states that should gladden everyone... https://t.co/EOc4PXXv8H The @Rising_Himachal Summit will surely bring more investment and opportunities for Himachal Pradesh.\\n\\nHere are som… https://t.co/e6uXEftvKK Our congratulations to President H.H. Sheikh Khalifa bin Zayed Al Nahyan on being re-elected as President of UAE. I… https://t.co/C949cCGZG6 Parth Bansal is a compassionate innovator. He may have made the ‘Utility Stick’ for his grandmother but in the comi… https://t.co/XMdmv0TXa8 Come, invest in Himachal Pradesh. Addressing the Global Investors’ meet. Watch. https://t.co/bZM320Uw9f Tomorrow, I join the @Rising_Himachal Global Investors’ Meet.\\n\\nThe Summit is being held in picturesque Dharamshala,… https://t.co/ls2ZYI4muj During Pragati, we discussed creation of an intra-state transmission system in 8 renewable energy rich states. We a… https://t.co/GhiNiLptSp While reviewing key infra projects, I emphasised on two things:\\n\\nSpeedy completion of pending development works.\\n\\nU… https://t.co/k21ba4tshw As far as Aspirational Districts are concerned, I saw in detail the dashboard based on 49 key indicators. The all-r… https://t.co/8L3UN5FsGb 9 mega projects.\\n\\nRs. 61,000 crore.\\n\\nMany states and the UT of Jammu and Kashmir.\\n\\nNational Agriculture Market, wel… https://t.co/bPPJRu09pn There are no failures in science. \\n\\nThere are efforts.\\n\\nThere are experiments.\\n\\nAnd, finally, there is success! https://t.co/wzfx4Qlcjs At the India International Science Festival, one of the topics we disused was Scientific Temper. \\n\\nHere is what I f… https://t.co/CtO45pIQsI Nurturing an eco-system that harnesses science, technology and innovation. https://t.co/JUcBA9AKk9 The fantastic Paritosh Dahiya has brought children and technology even more closer. \\n\\nHe is a worthy recipient of t… https://t.co/8BbCcywGXx Attended the meeting on RCEP in Bangkok earlier today. https://t.co/7e0AI3u1pQ Very productive talks with PM Nguyễn Xuân Phúc of Vietnam. \\n\\nIndia cherishes the robust friendship with Vietnam. Ou… https://t.co/OynH13IoUf Met my friend @ScottMorrisonMP. \\n\\nWe had valuable discussions on the full range of India-Australia relations. His p… https://t.co/QaAkYmVzkN Coming together for a better future for our planet. \\n\\nToday’s East Asia Summit was characterised by fruitful delibe… https://t.co/cOecHCsy9l It is always wonderful to meet my friend, PM @AbeShinzo. \\n\\nOur meeting today was very good. We exchanged views on m… https://t.co/lDX2I7hQ50 Productive interaction with Myanmar’s State Counsellor, Daw Aung San Suu Kyi. We had in-depth deliberations on addi… https://t.co/Zh7oCxaDmS My young friend Hridayeshwar Singh Bhati’s life journey motivates us all. \\n\\nHe did not let setbacks deter him. His… https://t.co/yIihXJuSCO Investors are taking a long term call on India.\\xa0\\n\\nIndia’s growth trajectory is also reflected in several ratings. https://t.co/FUsGz49Ug2 Money saved is money earned.\\n\\nEnergy conserved is energy generated. https://t.co/y2oBRHu9jj From ambitious missions to grassroots mass movements, public participation has made the impossible into possible. https://t.co/IBChs6juhN A brief overview of the positive changes in India over the last five years. https://t.co/Hf781yHvP0 Had an excellent meeting with Prime Minister Prayut Chan-o-cha. We talked about ways to expand cooperation between… https://t.co/Kxxu5bAJ7R Happy to have met President @jokowi. Our talks today were wide-ranging. We discussed ways to expand cooperation bet… https://t.co/v5MGH15mHN Congratulations @Springboks for winning the Rugby World Cup for a record-equalling third time!\\n\\nWhat a majestic per… https://t.co/O83k4BHBYk Harnessing India’s sporting talent by leveraging the power of technology! \\n\\nMany budding footballers will thank Arj… https://t.co/wQXaR9k1NR Addressing the India-ASEAN Summit in Bangkok. Watch. #ASEAN2019 https://t.co/meyETAd067 Congratulations to the @AdityaBirlaGrp for 50 years of their global presence. Watch from Bangkok. https://t.co/acZs7WDH38 Furthering connectivity between India and Thailand, adding synergy to our \\'Act East\\' and Thailand\\'s \\'Look West\\' pol… https://t.co/1YNnoM2IuQ Addressing a community programme in Bangkok, Thailand. Watch. https://t.co/fyY57sicg7 Delighted to be at the NCC Rally. Watch. https://t.co/kg1oedPscd I am delighted that the very talented Harshita Arora has been conferred the Bal Shakti Puraskar 2020!\\n\\nShe has been… https://t.co/J4ClaeziPW Reached Thailand to take part in the ASEAN related Summits including the India-ASEAN Summit and other programmes. I… https://t.co/jpADkWNaZb Connecting with the Indian diaspora is something I always look forward to. At 6 PM IST this evening in Bangkok, I w… https://t.co/raLocZ95kg In Bangkok, there will be meetings with various world leaders to discuss important bilateral and global issues. Ind… https://t.co/Rwetlhv047 I would be in Bangkok, Thailand to participate in various @ASEAN related Summits including the ASEAN-India Summit,… https://t.co/JgyzRPb1tA Took Chancellor Merkel to Gandhi Smriti in Delhi. The thoughts and principles of Mahatma Gandhi reverberate in Germ… https://t.co/D56AmATxHZ Important MoUs were signed during Chancellor Merkel’s visit. These will further invigorate the India-Germany friend… https://t.co/YNzPW9KJ1z India and Germany can work together in areas like artificial intelligence, skills, education and more. We welcome G… https://t.co/CcpZFiZ1jZ Today’s talks with Chancellor Merkel were extensive and fruitful. We reviewed the full range of India-Germany relat… https://t.co/WnvaKCJ65z Addressing the press with Chancellor Merkel. https://t.co/2g8ISVFljA A wonderful fusion of innovation and safety of women, as well as concern towards welfare of children! \\n\\nAparna Chan… https://t.co/ZX6jjAhj0v Karnataka Rajyotsava is a day to celebrate the outstanding contribution of Karnataka towards India’s progress. The… https://t.co/BfaWfetcxu On Kerala Piravi day, greetings to my sisters and brothers of Kerala. People from this state have made remarkable c… https://t.co/CpU6eOZ6RD Here’s how a coffee table book and newsletter of LBSNAA were released in Kevadia. https://t.co/CwDaV1K28F Reiterated our commitment to end transfer posting Raj, which hampers the performance of officers. \\n\\nAlso urged offi… https://t.co/QorsE9lF2n The ‘Statue of Unity’ provided an ideal setting to interact with IAS probationers. Talked about the need to make go… https://t.co/AK431wE2wk Kudos to my young friend Harsh Agrawal on being conferred the Bal Shakti Puraskar 2020. His pathbreaking work in th… https://t.co/ND9YG7uxQg Also heard valuable feedback from officers on how to make Aarambh an even more effective course. The discussions co… https://t.co/AaZPSJsYAM During today’s session at Aarambh, heard presentations on key policy matters. I was amazed by the out of the box th… https://t.co/79LGCCDKGG Today, on the Jayanti of Sardar Patel, I joined a very innovative, special and refreshing programme, Aarambh. This… https://t.co/lu4CxLDFUp Earlier today in Kevadia, inaugurated an exhibition in which our valiant police and paramilitary forces showcased t… https://t.co/rjZiuFQyrd Splendid Ekta Parade in Kevadia. Have a look at some photos from the parade. https://t.co/4qdeXCLsXU Today in Kevadia, next to the ‘Statue of Unity’ we took the Rashtriya Ekta pledge. \\n\\nMay this day inspire us to str… https://t.co/cZn0VsLHrb Our Yuva Shakti is contributing towards a healthier India! \\n\\nMeet the dynamic Anmol Rathi, who has worked on an aff… https://t.co/LEL7vW3s3g Shri Gurudas Dasgupta Ji was one of the most committed and articulate proponents of his ideology. He was a strong v… https://t.co/fLiKjPX1pY He was the stalwart who unified India. \\n\\nA leader of farmers, a great administrator and uncompromising when it came… https://t.co/H2WQpIolGJ India bows to Sardar Patel. Watch from Kevadia. https://t.co/kzN9Mm1ysw Best wishes to Assam CM @sarbanandsonwal Ji on his birthday. He is working tirelessly for the progress of Assam. Ma… https://t.co/zPKkExyrLy Heartiest congratulations @alferdez on your impressive victory in the Presidential elections. Looking forward to wo… https://t.co/JxyJX8yuEp I would like to particularly thank His Majesty @KingSalman and His Royal Highness the Crown Prince for their hospit… https://t.co/QIjiaWQx5Z I am extremely grateful to the people and Government of Saudi Arabia for their excellent hospitality. I am honoured… https://t.co/xuW95TF8bU Can you imagine winning the Mathematics Genius Award, bagging gold medals at international Olympiads successively a… https://t.co/bOefBGGaO0 It is always a delight to meet His Royal Highness Prince Mohammed bin Salman bin Abdulaziz. His vision for Saudi Ar… https://t.co/GXNYT7Ho5o Honoured to have addressed the @FIIKSA. Here are some pictures from the evening. https://t.co/FWhUIUHoJ5 India has:\\n\\nPolitical stability. \\n\\nPredictable policies. \\n\\nDiverse markets. \\n\\nThis is a great time to invest and do… https://t.co/l9Qo3wU4EM The need of the hour today- compassion towards the environment. https://t.co/9VuW61XJqs Infrastructure is an opportunity multiplier. \\n\\nWe in India are leaving no stone unturned to build next-generation i… https://t.co/6IEZlC6SFR Five trends that will influence global business in the 21st century. https://t.co/brUZWhTTp2 Called on His Majesty @KingSalman. He is one of the most widely respected leaders. We discussed multiple aspects re… https://t.co/GpSKuzSzcB Young Venkatasubramanian did not allow any barriers to hold his spirit back. He has won medals in national abacus c… https://t.co/bcMWuIJXIG Interacted with HE Ahmad Bin Salman Al Rajhi, Saudi Arabia’s Minister of Labour and Social Development. A wide rang… https://t.co/TRu0ViwPFK Speaking at @FIIKSA in Riyadh. Watch. https://t.co/IJwikcnX6L Adding even more energy to the India-Saudi Arabia friendship. \\n\\nI had an excellent meeting with HRH Prince Abdulazi… https://t.co/sE17I4HosI Wonderful meeting with HE @AlfadleyA, Minister of Environment, Water and Agriculture. These are sectors in which th… https://t.co/OXh4S37H3l Excellent meeting with His Majesty @KingAbdullahII in Riyadh. We discussed the full range of relations between Indi… https://t.co/ntm9VY6kA2 Sharing my interview with @arabnews, where I spoke about robust ties between India and Saudi Arabia, the reform tra… https://t.co/x2IkzKzDN9 Be it English Olympiad, Geogenius Olympiad or Science Olypiad, young Siddharth Kumar Gopal excels in all of them. S… https://t.co/q8XTq8TZzi Landed in the Kingdom of Saudi Arabia, marking the start of an important visit aimed at strengthening ties with a v… https://t.co/SNzryJzmIS Yesterday’s #MannKiBaat covered topics such as festival tourism, Sardar Patel’s contribution, one year of the ‘Stat… https://t.co/25xmNnKOuL PM @BorisJohnson wonderfully explains the essence of Diwali. I fully agree that Diwali brings all of us together. A… https://t.co/pgpcYsFINI My dear friend Bibi, thank you for the Diwali greetings. Greetings to you as well. @netanyahu https://t.co/Ym9sHASxCX As always, @POTUS @realDonaldTrump marks Diwali with great enthusiasm. Season’s greetings to him. \\n\\nMay there alway… https://t.co/vCjjU0I7Hv Thoughtful greetings by PM @JustinTrudeau. \\n\\nMay the special occasions of Diwali and Bandi Chhor Divas bring happin… https://t.co/gDN8mwHJWx Grateful for the wishes @PresidentRuvi. May this festive season further the spirit of harmony and happiness. https://t.co/KkLLDT1Bc0 Very well said, PM @leehsienloong!\\n\\nI am sure the wonderful people of Singapore celebrated this festival with gusto. https://t.co/FyQwPJs72B Meet Onkar Singh, who wrote ‘When The Time Stops’, a book on theoretical physics at a rather young age. Congratulat… https://t.co/TqTIF9ReuH Greetings to you as well, @VP Pence. https://t.co/rmGvT6scaA Fruitful interactions with MPs from the European Parliament. We exchanged views on boosting India-EU ties, the need… https://t.co/gOgxjIkLip Saudi Arabia and India are working together in a wide range of sectors notably energy, security, trade and culture.… https://t.co/OP8bfHgrLZ I will be visiting the Kingdom of Saudi Arabia on the 29th, where I will be a part of various programmes including… https://t.co/sNhC3JHBX1 My prayers are with the young and brave Sujith Wilson. Spoke to CM @EPSTamilNadu regarding the rescue efforts under… https://t.co/npssHcwfLE Met Shri Pranab Mukherjee and wished him on the special occasion of #Diwali. @CitiznMukherjee https://t.co/RQyTiYEOzG Wished Honourable Vice President Shri @MVenkaiahNaidu Garu on #Diwali. @VPSecretariat https://t.co/UJKTTTOoR8 Called on Rashtrapati Ji and conveyed #Diwali greetings to him. @rashtrapatibhvn https://t.co/xVKWkt5pJC Winning Hong Kong Mathematics Olympiad- check.\\n\\nTopping the International Society for Olympiad\\'s competitions- chec… https://t.co/7YSq5ugxH6 Anguished by the passing away of Shri Kamal Sharma Ji. He made noteworthy efforts to strengthen our Party in Punjab… https://t.co/fwYNrBrMbS #Diwali is sweeter when celebrated with our brave soldiers. https://t.co/skO2SfcwJ3 On the way back from Rajouri, also interacted with air warriors and personnel of the army at Pathankot Air Force St… https://t.co/H3BRxnAuBf Anecdotes about the courage of our soldiers are widely shared but do you also know about the stupendous efforts of… https://t.co/CotFXkUDZG While interacting with our soldiers, I thanked them on behalf of the people of India for their monumental service.… https://t.co/5H22h9DAFP Celebrated #Diwali with the brave soldiers of the Indian Army in Rajouri, Jammu and Kashmir. \\n\\nIt is always a matte… https://t.co/AYVYG9k6qz Congratulations to @mlkhattar Ji and @Dchautala on taking oath as CM and Deputy CM of Haryana. \\n\\nBest wishes to the… https://t.co/tZSYAtr7zV I can’t ever forget the day the Allahabad High Court delivered the Shri Ram Janmabhoomi verdict in 2010. \\n\\nThe way… https://t.co/j737ZgAUHe On the 31st of October, India will once again run for unity. \\n\\nI call upon all of you, especially my young friends… https://t.co/AByeeVMeTW This year, the ‘Statue of Unity’ completes a year. A tribute to Sardar Patel, it is also emerging as one of the wor… https://t.co/cLYjhdXFxL Youngsters like Devesh Pankaj Bhaiya are the reason for my optimism about India. He is just 12 and has already writ… https://t.co/fqR0w1eaJc Two interesting anecdotes from Sardar Patel’s life:\\n\\nHis role in ensuring Lakshadweep remains an integral part of I… https://t.co/FTiydfKDO0 During #MannKiBaat today, we paid tributes to Sri Guru Nanak Dev Ji. His thoughts give strength to millions across… https://t.co/Ch36ExTg0b Let us keep celebrating #BharatKiLaxmi. \\n\\nIn the classroom and sports,\\n\\nIn spheres of art, music and culture,\\n\\nIn b… https://t.co/1aV5MxtmjQ Hope you’re having a great #Diwali. Join today’s #MannKiBaat. https://t.co/CScutFXYyW On Infantry Day, greetings to our valorous infantrymen. Our infantry personifies diligence and bravery. Every India… https://t.co/jfdJBwMUZF Do join tomorrow at 11 AM. #MannKiBaat. https://t.co/7fk7bBX8bL Attended the 5th edition of the  #NITILecture series. \\n\\nHeard the insightful views of Mr. @DavidMalpassWBG, Preside… https://t.co/fUPaqRVn1K Lovely video.\\n\\nWhen my good friend and the PM of Australia @ScottMorrisonMP personally invites, I am sure many more… https://t.co/yFOrZxTOKN Addressing the Global Potato Conclave. https://t.co/GIuavRjLtA Meet my friend Chirag Falor, a Bal Puraskar awardee. Winner of national and international math and science competit… https://t.co/D62Bzi5wDj Sukriti Chiripal works with less privileged children in many cities through her NGO and encourages as well as helps… https://t.co/ifDp3eJ2dR Let us make this Diwali about lighting the lamp of happiness in the lives of others.\\n\\nLet us make this… https://t.co/iIZ3gYt5x0 Dilipbhai Parikh made a mark in the world of industry and public service. He worked for the people of Gujarat with… https://t.co/Ow3BCzRWtV When youthful energy meets social awareness and a zeal to do something meaningful, we get young leaders like Shaury… https://t.co/xF79gyQ4Oy Thanks to the decisions of the Indian Parliament, young and dynamic representatives will shape the destiny of the p… https://t.co/PoBC9x4A8m It would make India’s Parliament proud that due to their historic decision in August this year, the people of J&amp;K h… https://t.co/nJKyysjMCj I congratulate all those who have emerged victorious in the BDC polls across Jammu, Kashmir, Leh and Ladakh. \\n\\nThis… https://t.co/sH0AwsPF4K I am delighted to share that the BDC polls in Jammu, Kashmir, Leh and Ladakh were conducted in a very peaceful mann… https://t.co/CzIsjiXibA News that would make every Indian proud!\\xa0\\n\\nFor the first time since 1947, Block Development Council elections were… https://t.co/WRdqhwEwWM At the BJP HQ, addressing Party Karyakartas. https://t.co/CDPzz8RUwR People of Maharashtra have blessed the NDA with immense affection. We are humbled to have got the people’s support… https://t.co/6sfsVjZyyS I thank the people of Haryana for blessing us. We will continue to work with the same zeal and dedication for the s… https://t.co/SJQ5crW2va Interacting with BJP Karyakartas from Varanasi. Watch. https://t.co/QtyQxqXp1P I will be addressing @BJP4India Karyakartas from Varanasi in a short while from now. Do watch. Parth Sarthi has displayed immense persistence and compassion. Using technology, he has helped reunite many familie… https://t.co/AMKNxhtvOp Congratulations to President Kais Saied on being sworn-in as the President of the Republic of Tunisia. I look forwa… https://t.co/TXOpK7K8Vo Moments with Mr. Kissinger, former Prime Ministers Tony Blair and John Howard, Ms. Condoleezza Rice and Mr. Robert… https://t.co/hzlIWy5ZNZ Great discussions with former British PM Tony Blair. He has made a long lasting contribution to his nation and has… https://t.co/qEI1z7nx2d Glad to have met Dr. Henry Kissinger. He has made pioneering contributions to international politics and diplomacy. https://t.co/fhLFfi9i5U Very good interaction with the JP Morgan International Council, an illustrious gathering of top policy makers, thin… https://t.co/CB6ZiNRp2y Congratulations @JustinTrudeau! \\n\\nIndia and Canada are connected by shared values and a strong commitment to democr… https://t.co/AqjhVKotH2 Excellent meeting with Nobel Laureate Abhijit Banerjee. His passion towards human empowerment is clearly visible. W… https://t.co/pJfEv6sEr5 India’s Nari Shakti epitomises talent and tenacity, determination and dedication. \\n\\nOur ethos has always taught us… https://t.co/hLyzsYxjvz Youngsters like Parikul Bhardwaj are setting an example of leadership and selfless service towards society. As a st… https://t.co/HaADbquWFd Had a great interaction with the US India Strategic Partnership Forum. Talked about India’s strides in the world of… https://t.co/YVgKHrvk7w Heartiest congratulations to President @jokowi on the commencement of his second Presidential term in Indonesia, ou… https://t.co/34tHKO5n1T Last year, the National Police Memorial was dedicated to the nation. This Memorial is a place of inspiration and gr… https://t.co/AWspyDS4lL We salute our police forces, their families and remember with pride those brave police personnel martyred in the li… https://t.co/QhJzFj9Fgr Elections are taking place for Haryana and Maharashtra assemblies. There are also by-polls taking place in various… https://t.co/w6QFDYsR2N Thank you @Actor_Vivek! \\n\\nRespect for nature is a key part of our ethos. Nature manifests divinity and greatness.… https://t.co/SCUVnkYCEg Glad to be expressing myself in the world’s oldest language, which has nurtured a vibrant culture. \\n\\nThe Tamil lang… https://t.co/724cZtCPhV Meet the talented Yash Aradhya S from Karnataka, who has shown immense potential in the field of motorsports. In ju… https://t.co/IRRwr4mMhS Thank you! https://t.co/DDPOqRnnmh Released the book, ‘Bridgital Nation: Solving Technology’s People Problem’ written by N. Chandrasekaran and Roopa P… https://t.co/uqc5LkQiVR Here is a Tamil translation of the poem I wrote while I was at the picturesque shores of Mamallapuram a few days ag… https://t.co/tXy74KjOW5 When every citizen works Dil Se, the outcome will be exceptional.\\xa0\\n\\nWe will leave no stone unturned to carry forwar… https://t.co/1bd92UFKZK Happy to have interacted with you!\\n\\nLet us work together to make Gandhi 150 a super hit.\\xa0@taran_adarsh https://t.co/uIUsbZIMfI Keep up the good work, @RajkumarHirani. \\n\\nThe coming generations will remember your stupendous role in spreading th… https://t.co/lqPqhWNIEZ Happy to have met you Varun. Best wishes for your future endeavours. @varunsharma90 https://t.co/uJRn0x0UAv Through popular culture, the message of empowering women has travelled far and wide. May this trend continue.\\n\\nMay… https://t.co/OjIqzKZt45 Lovely indeed!\\n\\nHad the wonderful opportunity to interact with @sonamakapoor yesterday. \\n\\nBest wishes to your entir… https://t.co/dlYf3OljUp Yes it does! Individual efforts can pave the way for transformative outcomes. @Rakulpreet https://t.co/CcNWlrJbq7 Vinayak Bahadur’s exemplary skills in Badminton are an inspiration for many. I was impressed by his will-power, thr… https://t.co/spfHLbJ5rR Films connect and make our society better.\\xa0\\n\\nHappy to have met you,\\xa0@itsBhushanKumar. https://t.co/siTK0nwHbq Our film and entertainment industry is diverse and vibrant. \\n\\nIts impact internationally is also immense. \\n\\nOur fil… https://t.co/sKuOY6CxXM Spreading the thoughts of Mahatma Gandhi through cinema, ensuring more youngsters are well-acquainted with the idea… https://t.co/eJLTfH8KO7 The film fraternity comes together to pay tributes to Mahatma Gandhi!\\n\\n#ChangeWithin is an excellent effort, which… https://t.co/uimmrnlFwk Glimpses from today\\'s rallies in Sirsa and Rewari. \\n\\nI am confident the people of Haryana will bless the BJP yet ag… https://t.co/t1ihBs0oic Ever heard of anything ‘temporary’ lasting 7 decades?\\n\\nMisdeeds of Congress in Kashmir eroded the Sufi tradition of… https://t.co/AhoH9V5Xuo Six years ago, I had come to Rewari as the newly appointed PM candidate of my Party. That time I had made a set of… https://t.co/wsjgdMTNG8 Great to meet my young friend Sudipti Hajela, who hails from Madhya Pradesh. Her passion towards equestrian events… https://t.co/jWF2Y8SjMh Here is one thing I am very proud our Government has got the honour of doing. Have a look. https://t.co/5GqNIKSOjS It is always special to be in Rewari. Watch my speech. https://t.co/bCbmheJemt Sirsa is home to exceptional and warm-hearted people. It’s an honour to serve them. Watch from Ellenabad https://t.co/wKYJnODZce Thank you Mumbai!\\n\\nToday’s rally, like the others across Maharashtra, indicates the people’s mood. \\n\\nWe seek anothe… https://t.co/VSJyKkqUJa It is a dream of every Indian to have his or her own house. \\n\\nOur Government is ensuring that the dream of ‘Housing… https://t.co/SrdiKQoQQa Our focus is to create a nation of job creators. \\n\\nFrom the earlier burden of red tape, there is a red carpet for i… https://t.co/GkClGbylcZ Mumbai, a city that has contributed so much to our nation. \\n\\nThis dynamic city, our financial capital is also home… https://t.co/b8CWN5h5A4 Addressing a rally in Mumbai. Watch my speech. https://t.co/AXtxPGJhrX Reached Mumbai. About to address a rally in this vibrant city. \\n\\nHere’s a photo of the spectacular sky while on the… https://t.co/ujrUg3VZr6 Delhi’s Sanchita Tiwari has made India proud on world stage. She is one of the recipients of Bal Shakti Puraskar th… https://t.co/G6EbDYDw1k Great fervour in Gohana and Hisar. \\n\\nThe mood on the ground favours the development oriented policies of BJP. \\n\\nHar… https://t.co/o1uUjgf7Tv Talking about the BJP’s development agenda in Hisar, Haryana. Have a look. https://t.co/NEmwiMEYCl Speaking at a massive rally in Gohana. Watch. https://t.co/5voDRUh8ed Humbled by the affection in Pune, a city of immense energy and vibrancy. \\n\\nIt is the place from where several socia… https://t.co/jzJTlVuHPL I kept saying that those who looted the poor will be punished for their misdeeds. That time opposition leaders mock… https://t.co/kBf1lw9lqw Meet my young friend Rushil Khosla. At a young age of 13 years, he holds the Number 1 rank in Asia Tennis Federatio… https://t.co/7atfpher46 The decisions on Articles 370 and 35(A) will:\\n\\nFurther integration.\\n\\nBoost inclusion.\\n\\nBegin industrial growth for… https://t.co/MCflDPgqD0 Beed and Satara have showered me with immense affection! \\n\\nToday’s rallies in these two places were memorable. Elab… https://t.co/5lBWn4dfDH Euphoric atmosphere here in Pune. Watch my speech. https://t.co/0aqGrxCWsP We are working tirelessly to fulfil the dreams of Shivaji Maharaj. Watch from Satara. https://t.co/dZm6XO9tfq The bond between Beed and BJP can never be broken! Watch from Parli. https://t.co/d1kA2xjHVu Haryana’s Prithu Gupta is a master at playing Chess. My young friend has made India proud at a world stage. At the… https://t.co/HJbMOmOXlp Extremely adorable! \\n\\nDo convey my blessings to young Nihal. Wishing him the very best, in whatever he seeks to do.… https://t.co/in2tuAfimg Anguished by the news of a bus crash near Mecca in Saudi Arabia. Condolences to the families of those who lost thei… https://t.co/dL5bZQEuzg Harnessing the blue economy for Maharashtra‘s and India’s progress. https://t.co/I8ibnNXsFA Thank you Panvel! Today’s rally was excellent, with people from all walks of life joining the programme. https://t.co/vSzxFhU5Ft Different places, same spirit, same vibrancy! \\n\\nHave a look at these pictures from today’s rallies in Akola and Jal… https://t.co/PktGcez5mn Skiff sailing is not known to many. It is heart-warming to see Pearl Milind Colvalcar excel in this unique area. In… https://t.co/GT3cLvVKbD Congress finally admits- it needs lessons in nationalism! https://t.co/nKqGRV683b Top INC-NCP leaders are going to be defeated! People want NDA again. Watch from Panvel. https://t.co/Pg94tkLUs2 People in Jalna are happy with the work of the NDA Government. They’ll vote for us again! Watch. https://t.co/FZkeBmtyrk Come to Akola to see the wide support for BJP! https://t.co/ZJYrotIr1L Through the power of their vote, the people of Haryana will give a befitting reply to Congress for giving priority… https://t.co/A2rqa97pRJ Haryana\\'s Nari Shakti is excelling in all fields.\\n\\nThe Central Government and Haryana Government are undertaking nu… https://t.co/rnH1dNvCGY Neha, my young friend from Haryana is an ace boxer. She has made India proud at the global stage. Many congratulati… https://t.co/Vs72epanVB Campaigned in Dadri and Kurukshetra.\\xa0\\n\\nThese pictures indicate the strong support for @BJP4Haryana.\\xa0\\n\\nPeople from a… https://t.co/y7mEWUx3NN The mood in Haryana favours BJP’s development agenda. Watch from Dadri. https://t.co/fhuFkvBmVz This month’s #MannKiBaat will take place on 27th October, which is also the day of Diwali. \\n\\nShare your inputs for… https://t.co/SFRaL9qKWD An important milestone in the journey of creating a healthy India!\\n\\nIt would make every Indian proud that in a year… https://t.co/5Y5TUYCVVM Birthday wishes to @DrMNPandeyMP Ji. He is working tirelessly to enhance skill development opportunities for India’… https://t.co/55o9IMPNTM Greetings to @naqvimukhtar Ji on his birthday. Naqvi Ji has always been a hardworking leader, who has served the Pa… https://t.co/c0ZOJ45uIs Earlier today, had a very good meeting with King Willem-Alexander and Queen Maxima of the Netherlands. We had exten… https://t.co/sLVSH2vpue It gave me immense joy to interact with Khushi Hooda, who hails from Haryana. Her commitment to excel at Golf at su… https://t.co/PbjhLNaube Five years ago, the Congress mocked us and asked- who is your captain in Haryana.\\xa0\\n\\nToday, we not only have a capta… https://t.co/GIjkXh6Nnx I also congratulate Esther Duflo and Michael Kremer for wining the prestigious Nobel. Congratulations to Abhijit Banerjee on being conferred the 2019 Sveriges Riksbank Prize in Economic Sciences in Mem… https://t.co/5XfZ4BF1Os Haryana supports BJP’s development agenda. Watch from Ballabhgarh. https://t.co/iW6ZikirWI I congratulate Esha Singh on her phenomenal achievement. She is the youngest national record holder in 10 Meter Air… https://t.co/htbR265w1x Addressing a rally in Sakoli. Watch. https://t.co/SZ1fKtxOun India stands in solidarity with Japan at this difficult hour. Personnel of the Indian Navy, in Japan on a scheduled… https://t.co/G1qpXVBz23 I am sure that the preparedness and resilience of the Japanese people and the leadership of my friend @AbeShinzo wo… https://t.co/CzjrFbE26g I offer condolences on behalf of all Indians on the loss of life caused by super-typhoon #Hagibis in Japan. I wish… https://t.co/LYbs8GSEEv Met Pema, a great exhibit of selfless bravery in the face of adversity. She helped save lives when the boundary wal… https://t.co/1BeU5mKdZL Since yesterday, many of you have been asking - what is it that I was carrying in my hands when I went plogging at… https://t.co/t91JNXi38v Will be campaigning in Maharashtra tomorrow. Looking forward to addressing rallies in Jalgaon and Sakoli. The NDA i… https://t.co/jFKLwoT5HE I would also like to express my gratitude to all political parties and socio-cultural organisations of Tamil Nadu f… https://t.co/06raW5xMa1 A special Thank You to my sisters and brothers of Tamil Nadu. As always, their warmth and hospitality was outstandi… https://t.co/ZSpgOgRhXB Akula Sai Samhitha has already won more than 60 medals in Skating! Not only this, she is also the youngest Indian g… https://t.co/pwb2LjriG5 I thank President Xi Jinping for coming to India for our second Informal Summit. The #ChennaiConnect will add great… https://t.co/5c8UNmEXMj Discussions continued with President Xi Jinping at Mamallapuram. We’ve been having productive deliberations on furt… https://t.co/9DcxNIpCeU Plogging at a beach in Mamallapuram this morning. It lasted for over 30 minutes. \\n\\nAlso handed over my ‘collection’… https://t.co/WkkhE6Iy4j Refreshing walk and exercises in Mamallapuram, along the scenic coast. https://t.co/UjUq8FbVAv Was happy to meet Aarushi Sharma who has already made a name for herself at such a young age with her accomplishmen… https://t.co/CPAv5Zhd8v Overlooking the Bay of Bengal is the majestic Shore Temple. \\n\\nOne of the most iconic landmarks, the Shore Temple ex… https://t.co/QV4c24QYvC President Xi Jinping and I saw the marvellous Pancha Rathas.\\xa0\\n\\nThe five Rathas are examples of monolith rock-cut ar… https://t.co/Y4ZglRmsox Arjuna\\'s Penance is one of the grandest places to see in Mamallapuram. It brings to life aspects of the Mahabharata… https://t.co/dGE4O45LbB Was very happy to meet Soumyadip Jana. His act of valour will inspire everyone. Young Soumyadip fought and resisted… https://t.co/tqJBdrI02i Mamallapuram is one of the most beautiful places in India, full of vibrancy. It is linked to commerce, spirituality… https://t.co/Eata1GyvYW Welcome to India, President Xi Jinping! https://t.co/1NGGKTFSCm Landed in Chennai. \\n\\nI am happy to be in the great land of Tamil Nadu, known for its wonderful culture and hospital… https://t.co/6AUqAFeXCz Was wonderful to meet young Lalkansung. He showed tremendous bravery when he fearlessly dived in the pond and rescu… https://t.co/J3BFHPUDop This year we mark the birth centenary of Marshal of the Indian Air Force Arjan Singh DFC. As a tribute to his exemp… https://t.co/lnsIciOXua Attended the At-Home programme of the Indian Air Force. Also witnessed an exhibition on the theme of ‘Self Reliance… https://t.co/u6j5HIzH9Q Interacted with young police officers from the 2018 Batch of the IPS. We discussed a wide range of subjects relatin… https://t.co/00FAiyoIwo Some more glimpses from the Vijaya Dashami programme in Delhi. https://t.co/rN3ouMHSkR Sharing glimpses from the Vijaya Dashami programme in Dwarka, Delhi. https://t.co/nxKeUj51ki May the blessings of Prabhu Shri Ram always remain upon us. \\n\\nMay the power of truth, goodness and compassion alway… https://t.co/A0dSLeHIgl Excellent idea @AmanKayamHai_ET! \\n\\nYou may call this a \"small change” but such small acts will have a huge impact i… https://t.co/46MSARhwRO Ishaan Sharma not only showed indomitable courage but also showed the spirit of ‘Atithi Devo Bhava’ in action when… https://t.co/EZuB7j2zL9 Celebrating Vijaya Dashami, the triumph of good over evil. Watch. https://t.co/imVRFvDbfb Very good! Cleanliness powered by community initiatives is always wonderful to see. Congratulations to everyone who… https://t.co/Vi5OI44zAw Today, on Air Force Day, a proud nation expresses gratitude to our air warriors and their families. The Indian Air… https://t.co/yqlIP7TZaY Congratulations to @psocialista and my friend, @antoniocostapm for the good performance in the parliamentary electi… https://t.co/Bw3cPJv9SZ This is great! Plogging is a win-win because it improves fitness and the environment. More power to such volunteeri… https://t.co/qdDxkUMkj9 World over, Durga Puja festivities are taking place with full vigour. Greetings to everyone on this special occasio… https://t.co/T6WCQOsTE3 It was a joyful occasion today when I met Pragun Pudukoli today, who at such a young age is already acknowledged as… https://t.co/THrMoGK4Bw Happy to see our former PM Shri @H_D_Devegowda Ji visit the ‘Statue of Unity.’ https://t.co/GVWMo7UIow Basketball 🏀 is very popular among our youth. The @NBA matches set the stage, or rather set the court for greater l… https://t.co/MMjOPTAlFH Yesterday was a historic day for sports in India and India-USA relations. Mumbai hosted the first ever @NBA match p… https://t.co/fsX309AKTs Adding to the growth of India’s Northeast. \\n\\nSigning of Standard Operating Procedures for the use of Chattogram and… https://t.co/VWhmxFCTfT You would be happy to know that the protocol route has been expanded to include new inland river ports near Tripura… https://t.co/X6P2tc70zZ A win-win for India and Bangladesh!\\n\\nThe supply of LPG through Bangladesh, to Tripura, using Bangladeshi trucks ens… https://t.co/pEK8IEd8AU The Sabroom town of Tripura will get 1.82 cusec of drinking water from the Feni river in Bangladesh. \\n\\nThis augurs… https://t.co/w53pAcOwPl This visit of PM Sheikh Hasina has led to remarkable outcomes for India-Bangladesh cooperation in the areas of wate… https://t.co/HEAf0PjvqR Had an excellent meeting with PM Sheikh Hasina. We reviewed the full range of bilateral ties between India and Bang… https://t.co/oSe9TBuaOM I was overjoyed to meet the young budding painter Riya Jain today. Riya has already won global recognition for her… https://t.co/MX5KyPeSFP Excellent points made by @SpeakerPelosi at the programme marking #Gandhi150 in Washington DC. She talks about the f… https://t.co/hyFcKOZBKD Met India’s former Chief of Air Staff, Air Chief Marshal BS Dhanoa (retired). He has served our nation with utmost… https://t.co/osp0XcWSp4 Had excellent deliberations with  Deputy Prime Minister and Minister for Finance of Singapore Mr. Heng Swee Keat. W… https://t.co/fDXYJDjbav Boosting developmental cooperation with Mauritius. Watch. https://t.co/bLmR2ZCDyK The excellent work of the Tata Group towards furthering cleanliness is very much in line with historical ethos of t… https://t.co/V2k5bZ15ZZ Great to see the passion to build a better planet! My best wishes @HimaDas8. https://t.co/CmaqIDQEvg It gave me immense happiness to meet young dance maestro Korok Biswas today. He has never let adversity come in the… https://t.co/EgLKqMtJdD Not only guarding India but also inspiring youth through  concerted efforts for cleanliness. Excellent… https://t.co/cbQ1zLoUqv Heartening to see people coming together for cleanliness across urban and rural India. https://t.co/B4eKbo4LED India’s protectors protecting the future of the planet as well. https://t.co/0J2s2CiuLH Great song, great effort and most importantly, great message! #ThukMat https://t.co/7L6cGeNM5A A Navratri gift for my sisters and brothers of Jammu as well as devotees of Maa Vaishno Devi!\\n\\nThe New Vande Bharat… https://t.co/hKpWiHwfaw Birthday wishes to my energetic and dynamic colleague @gssjodhpur Ji. Gajendra Ji is respected as a humble and acce… https://t.co/LSEWtxEhqC We bow to Maa Skandamata. May her blessings always remain on our society. Here is a Stuti. https://t.co/VoqwIr6HVv It was a pleasure to meet Gauri Mishra today who enjoys the honour of being among the youngest pianists of India. I… https://t.co/jznLiODr96 We dedicate our strides in cleanliness to Bapu, our inspiration. #Gandhi150 https://t.co/77BuFlcawC Together, we are building the India of Bapu’s dreams. #Gandhi150 https://t.co/w8jJXFqRT5 I am deeply anguished by the passing away of His Highness Sheikh Suhail bin Mubarak Al Ketbi, the uncle of Crown Pr… https://t.co/i7rzP02LKw India pays tributes to Mahatma Gandhi. #Gandhi150 https://t.co/KCteDCgXcC Paid tributes to respected Bapu at Sabarmati Ashram in Ahmedabad. #GandhiJayanti https://t.co/pb6AGdSQTC I am pleased to meet the young magician Darsh Malani today. Darsh, who has been creating magic across the world, ha… https://t.co/QghVsldur0 Dr. HL Trivedi was a stalwart of the medical world. He made a mark as an excellent doctor, known for his dexterity… https://t.co/1dt9PBiGCB Thank you Mata @Amritanandamayi Ji. \\n\\nYour inspiring words and support will add immense strength to the Swachh Bhar… https://t.co/g5r0MDSD80 A great mix of music and message, song and Swachhata. Creative and humorous, @IndiaToday. https://t.co/7gYtt4BX01 Great! https://t.co/fijbejZT4x Excellent tribute to Bapu. Happy to see youngsters participate. https://t.co/i1sDbJwPBu Way to go! https://t.co/JMj12VFTJg Great to see this enthusiasm! https://t.co/B4hppt63KB Let this become a mass movement across the world.\\n#PlogForSwachhBharat and #PlogForCleanPlanet as well! https://t.co/1fe78tofJn Mahatma Gandhi’s personality. \\n\\nThe power of his thoughts.\\n\\nHis global impact. \\n\\nAnd, a special Einstein challenge… https://t.co/IxQjilJ6T0 Saluting the young music maestro Manoj Atharva Kumar Lohar from Maharashtra. \\n\\nI wish him a long life and all succe… https://t.co/lAF1Guv5H4 In Ahmedabad, I will pay homage to Mahatma Gandhi at the Sabarmati Ashram. \\n\\nI will also join a cultural Navratri e… https://t.co/glJFR6hEVX From Ahmedabad, a city closely associated with beloved Bapu, we will showcase our efforts towards creating a Swachh… https://t.co/RU2SAsDHrs Today, on #GandhiJayanti, I will be in Ahmedabad for a special Swachh Bharat Diwas Programme on the banks of the Sa… https://t.co/Ed3SIupxu9 At Rajghat, paid tributes to Bapu. \\n\\nGandhi Ji’s commitment to peace, harmony and brotherhood remained unwavering.… https://t.co/1u6miqVS8A At Vijay Ghat, paid tributes to Shastri Ji. \\n\\nIndia will never forget the valuable contribution of Shastri Ji. He w… https://t.co/HlC1XANgzE In the years to come, we are making Ayushman Bharat even more people friendly.  Today, we launched a mobile App tha… https://t.co/3Xr3azBltY Had a delightful interaction with those who have been awarded the Rashtriya Bal Puraskar, 2020.\\n\\nIndia is proud of… https://t.co/TXyYJLS36g Had an excellent interaction with beneficiaries of Ayushman Bharat PM-JAY. I am delighted that this scheme has touc… https://t.co/sEyhrE4Jow Great meeting you, @GovHolcomb! India is delighted to work with the great state of Indiana! This will add immense s… https://t.co/u4p2I2U7fS Called on Rashtrapati Ji and greeted him on his birthday. @rashtrapatibhvn https://t.co/DCcXqPR8n5 One year of Ayushman Bharat, the largest healthcare programme in the world. https://t.co/v3GspoXvYa #MannKiBaat September 2019 had an interesting mix of topics, which connected with a wide range of people. \\n\\nDid you… https://t.co/a8gfKKV0Vb Greetings to Rashtrapati Ji on his birthday.\\n\\nIndia has gained significantly from his insights and understanding of… https://t.co/2BbzwKE5ib Spoke to Bihar CM @NitishKumar Ji regarding the flood situation in parts of the state. Agencies are working with lo… https://t.co/6iynVXYhsY Interacting with those taking part in our Republic Day celebrations. Watch. https://t.co/YzHGg0yp2b My request to the student community... https://t.co/xF3w6P19BM We live, we learn. https://t.co/f283JqybqH Foundations of the 21st century will rest on the three crucial pillars of:\\n\\nInnovation.\\n\\nTeamwork.\\n\\nTechnology. https://t.co/313zeM8zB4 Students from IITs are:\\n\\nMaking Brand India stronger globally. \\n\\nMaking India more developed and prosperous. https://t.co/FoGr20Bhf9 At the @iitmadras convocation, here is how we appreciated the role of the parents and teachers of the graduating st… https://t.co/yEtEYrneLS Devastating news from Banaskantha. I am extremely pained by the loss of lives due to an accident. In this hour of g… https://t.co/9o8qKzdV0p We are encouraging innovation and incubation because:\\n\\nWe want easy solutions to solve India\\'s problems.\\n\\nAnd\\n\\nWe i… https://t.co/KYdoiaXomi Hackathons are great platforms for youngsters.\\n\\nThe solutions from today’s Hackathons are the big ideas for tomorro… https://t.co/BtIZSCP8zz From competition to collaboration.\\n\\nKnow why this year’s #SingaporeIndiaHackathon is special. https://t.co/XfCrDAJEuA Addressing bright young minds at @iitmadras convocation. Watch. https://t.co/Tsw37pT7de Interacting with recipients of Rashtriya Bal Puraskar, 2020. Watch. https://t.co/aMwRIevyIf Interacting with young innovators at the #SingaporeIndiaHackathon. Watch. https://t.co/NBuTlMymcL Speaking at Chennai Airport. Watch. https://t.co/7qWBSkMO5R Joined extensive Central Election Committee meetings for elections in Haryana and Maharashtra. We are going to poll… https://t.co/g41ZUNVKnk It does not happen often that the world discusses the runner-up as much as the winner. That is why, when… https://t.co/cXQhQc9PyF During #MannKiBaat, I spoke to the phenomenal Ripudaman Ji, who is improving both fitness and cleanliness levels th… https://t.co/tPWTm9LBKD There is much misinformation about e-cigarettes. \\n\\nThey are extremely harmful for health. What is even worse is tha… https://t.co/3DF9V1q4jq This Diwali, let us salute the indomitable Nari Shakti of India.\\n\\nLet us make this year’s Diwali about… https://t.co/cRqVUQ50xj Delivery in, delivery out…\\n\\nHere is how you can bring smiles on the faces of several others during this festive sea… https://t.co/87UtRCpkwZ She is one of the most accomplished and humble Indians.\\n\\nHer popularity spans across generations. \\n\\nVia #MannKiBaat… https://t.co/uU55LbnKDc'"
      ]
     },
     "execution_count": 5,
     "metadata": {},
     "output_type": "execute_result"
    }
   ],
   "source": [
    "tweet_joined=\" \".join(data_en.Text.values)\n",
    "tweet_joined"
   ]
  },
  {
   "cell_type": "code",
   "execution_count": 6,
   "metadata": {},
   "outputs": [],
   "source": [
    "stop=stopwords.words(\"english\")"
   ]
  },
  {
   "cell_type": "code",
   "execution_count": 7,
   "metadata": {},
   "outputs": [],
   "source": [
    "lemm =WordNetLemmatizer()"
   ]
  },
  {
   "cell_type": "code",
   "execution_count": 8,
   "metadata": {},
   "outputs": [],
   "source": [
    "def clean_text(sent):\n",
    "    tokens=regexp_tokenize(tweet_joined.lower(),'#[\\w]+')\n",
    "    lemmed=[lemm.lemmatize(term) for term in tokens\\\n",
    "            if term not in stop and \\\n",
    "            term not in list(punctuation) and\\\n",
    "            len(term)>2]\n",
    "    res=\" \".join(lemmed)\n",
    "    return res"
   ]
  },
  {
   "cell_type": "code",
   "execution_count": 9,
   "metadata": {},
   "outputs": [
    {
     "name": "stderr",
     "output_type": "stream",
     "text": [
      "C:\\ProgramData\\Anaconda3\\lib\\site-packages\\ipykernel_launcher.py:1: SettingWithCopyWarning: \n",
      "A value is trying to be set on a copy of a slice from a DataFrame.\n",
      "Try using .loc[row_indexer,col_indexer] = value instead\n",
      "\n",
      "See the caveats in the documentation: http://pandas.pydata.org/pandas-docs/stable/indexing.html#indexing-view-versus-copy\n",
      "  \"\"\"Entry point for launching an IPython kernel.\n"
     ]
    }
   ],
   "source": [
    "data_en['cleaned_text']=data.Text.apply(clean_text)"
   ]
  },
  {
   "cell_type": "code",
   "execution_count": 10,
   "metadata": {},
   "outputs": [
    {
     "data": {
      "text/html": [
       "<div>\n",
       "<style scoped>\n",
       "    .dataframe tbody tr th:only-of-type {\n",
       "        vertical-align: middle;\n",
       "    }\n",
       "\n",
       "    .dataframe tbody tr th {\n",
       "        vertical-align: top;\n",
       "    }\n",
       "\n",
       "    .dataframe thead th {\n",
       "        text-align: right;\n",
       "    }\n",
       "</style>\n",
       "<table border=\"1\" class=\"dataframe\">\n",
       "  <thead>\n",
       "    <tr style=\"text-align: right;\">\n",
       "      <th></th>\n",
       "      <th>Text</th>\n",
       "      <th>Lang</th>\n",
       "      <th>Source</th>\n",
       "      <th>Time</th>\n",
       "      <th>Retweets</th>\n",
       "      <th>cleaned_text</th>\n",
       "    </tr>\n",
       "  </thead>\n",
       "  <tbody>\n",
       "    <tr>\n",
       "      <th>0</th>\n",
       "      <td>Addressed the Global Potato Conclave at Gandhi...</td>\n",
       "      <td>en</td>\n",
       "      <td>Twitter for iPhone</td>\n",
       "      <td>1580222363000</td>\n",
       "      <td>2388</td>\n",
       "      <td>#republicday #parikshapecharcha2020 #parikshap...</td>\n",
       "    </tr>\n",
       "    <tr>\n",
       "      <th>10</th>\n",
       "      <td>Extremely touched by the lovely #RepublicDay w...</td>\n",
       "      <td>en</td>\n",
       "      <td>Twitter Web App</td>\n",
       "      <td>1580125780000</td>\n",
       "      <td>2591</td>\n",
       "      <td>#republicday #parikshapecharcha2020 #parikshap...</td>\n",
       "    </tr>\n",
       "    <tr>\n",
       "      <th>100</th>\n",
       "      <td>Tributes to the great Balasaheb Thackeray on h...</td>\n",
       "      <td>en</td>\n",
       "      <td>Twitter for iPhone</td>\n",
       "      <td>1579748075000</td>\n",
       "      <td>8817</td>\n",
       "      <td>#republicday #parikshapecharcha2020 #parikshap...</td>\n",
       "    </tr>\n",
       "    <tr>\n",
       "      <th>101</th>\n",
       "      <td>India will always remain grateful to Netaji Su...</td>\n",
       "      <td>en</td>\n",
       "      <td>Twitter Media Studio</td>\n",
       "      <td>1579747999000</td>\n",
       "      <td>9996</td>\n",
       "      <td>#republicday #parikshapecharcha2020 #parikshap...</td>\n",
       "    </tr>\n",
       "    <tr>\n",
       "      <th>102</th>\n",
       "      <td>On 23rd January 1897, Janakinath Bose wrote in...</td>\n",
       "      <td>en</td>\n",
       "      <td>Twitter for iPhone</td>\n",
       "      <td>1579747828000</td>\n",
       "      <td>8500</td>\n",
       "      <td>#republicday #parikshapecharcha2020 #parikshap...</td>\n",
       "    </tr>\n",
       "  </tbody>\n",
       "</table>\n",
       "</div>"
      ],
      "text/plain": [
       "                                                  Text Lang  \\\n",
       "0    Addressed the Global Potato Conclave at Gandhi...   en   \n",
       "10   Extremely touched by the lovely #RepublicDay w...   en   \n",
       "100  Tributes to the great Balasaheb Thackeray on h...   en   \n",
       "101  India will always remain grateful to Netaji Su...   en   \n",
       "102  On 23rd January 1897, Janakinath Bose wrote in...   en   \n",
       "\n",
       "                   Source           Time  Retweets  \\\n",
       "0      Twitter for iPhone  1580222363000      2388   \n",
       "10        Twitter Web App  1580125780000      2591   \n",
       "100    Twitter for iPhone  1579748075000      8817   \n",
       "101  Twitter Media Studio  1579747999000      9996   \n",
       "102    Twitter for iPhone  1579747828000      8500   \n",
       "\n",
       "                                          cleaned_text  \n",
       "0    #republicday #parikshapecharcha2020 #parikshap...  \n",
       "10   #republicday #parikshapecharcha2020 #parikshap...  \n",
       "100  #republicday #parikshapecharcha2020 #parikshap...  \n",
       "101  #republicday #parikshapecharcha2020 #parikshap...  \n",
       "102  #republicday #parikshapecharcha2020 #parikshap...  "
      ]
     },
     "execution_count": 10,
     "metadata": {},
     "output_type": "execute_result"
    }
   ],
   "source": [
    "data_en.head()"
   ]
  },
  {
   "cell_type": "markdown",
   "metadata": {},
   "source": [
    "## 2.) CREATE THE DTM USING COUNT VECTORIZER"
   ]
  },
  {
   "cell_type": "code",
   "execution_count": 11,
   "metadata": {},
   "outputs": [],
   "source": [
    "count_vect=CountVectorizer(min_df=5,max_features=150)"
   ]
  },
  {
   "cell_type": "code",
   "execution_count": 12,
   "metadata": {},
   "outputs": [],
   "source": [
    "X=count_vect.fit_transform(data_en['cleaned_text'])"
   ]
  },
  {
   "cell_type": "code",
   "execution_count": 13,
   "metadata": {},
   "outputs": [
    {
     "data": {
      "text/plain": [
       "['100yearsofassocham',\n",
       " 'asean2019',\n",
       " 'bharatkilaxmi',\n",
       " 'cab',\n",
       " 'cab2019',\n",
       " 'changewithin',\n",
       " 'chennaiconnect',\n",
       " 'constitutionday',\n",
       " 'diwali',\n",
       " 'gandhi150',\n",
       " 'gandhijayanti',\n",
       " 'hagibis',\n",
       " 'htls2019',\n",
       " 'incredibleindia',\n",
       " 'jalshakti4india',\n",
       " 'mannkibaat',\n",
       " 'nitilecture',\n",
       " 'parikshapecharcha2020',\n",
       " 'plogforcleanplanet',\n",
       " 'plogforswachhbharat',\n",
       " 'republicday',\n",
       " 'republicsummit',\n",
       " 'singaporeindiahackathon',\n",
       " 'solareclipse2019',\n",
       " 'thukmat']"
      ]
     },
     "execution_count": 13,
     "metadata": {},
     "output_type": "execute_result"
    }
   ],
   "source": [
    "count_vect.get_feature_names()"
   ]
  },
  {
   "cell_type": "code",
   "execution_count": 14,
   "metadata": {},
   "outputs": [
    {
     "data": {
      "text/html": [
       "<div>\n",
       "<style scoped>\n",
       "    .dataframe tbody tr th:only-of-type {\n",
       "        vertical-align: middle;\n",
       "    }\n",
       "\n",
       "    .dataframe tbody tr th {\n",
       "        vertical-align: top;\n",
       "    }\n",
       "\n",
       "    .dataframe thead th {\n",
       "        text-align: right;\n",
       "    }\n",
       "</style>\n",
       "<table border=\"1\" class=\"dataframe\">\n",
       "  <thead>\n",
       "    <tr style=\"text-align: right;\">\n",
       "      <th></th>\n",
       "      <th>100yearsofassocham</th>\n",
       "      <th>asean2019</th>\n",
       "      <th>bharatkilaxmi</th>\n",
       "      <th>cab</th>\n",
       "      <th>cab2019</th>\n",
       "      <th>changewithin</th>\n",
       "      <th>chennaiconnect</th>\n",
       "      <th>constitutionday</th>\n",
       "      <th>diwali</th>\n",
       "      <th>gandhi150</th>\n",
       "      <th>...</th>\n",
       "      <th>mannkibaat</th>\n",
       "      <th>nitilecture</th>\n",
       "      <th>parikshapecharcha2020</th>\n",
       "      <th>plogforcleanplanet</th>\n",
       "      <th>plogforswachhbharat</th>\n",
       "      <th>republicday</th>\n",
       "      <th>republicsummit</th>\n",
       "      <th>singaporeindiahackathon</th>\n",
       "      <th>solareclipse2019</th>\n",
       "      <th>thukmat</th>\n",
       "    </tr>\n",
       "  </thead>\n",
       "  <tbody>\n",
       "    <tr>\n",
       "      <th>0</th>\n",
       "      <td>1</td>\n",
       "      <td>1</td>\n",
       "      <td>1</td>\n",
       "      <td>1</td>\n",
       "      <td>1</td>\n",
       "      <td>1</td>\n",
       "      <td>1</td>\n",
       "      <td>3</td>\n",
       "      <td>6</td>\n",
       "      <td>4</td>\n",
       "      <td>...</td>\n",
       "      <td>24</td>\n",
       "      <td>1</td>\n",
       "      <td>2</td>\n",
       "      <td>1</td>\n",
       "      <td>1</td>\n",
       "      <td>8</td>\n",
       "      <td>2</td>\n",
       "      <td>2</td>\n",
       "      <td>1</td>\n",
       "      <td>1</td>\n",
       "    </tr>\n",
       "    <tr>\n",
       "      <th>1</th>\n",
       "      <td>1</td>\n",
       "      <td>1</td>\n",
       "      <td>1</td>\n",
       "      <td>1</td>\n",
       "      <td>1</td>\n",
       "      <td>1</td>\n",
       "      <td>1</td>\n",
       "      <td>3</td>\n",
       "      <td>6</td>\n",
       "      <td>4</td>\n",
       "      <td>...</td>\n",
       "      <td>24</td>\n",
       "      <td>1</td>\n",
       "      <td>2</td>\n",
       "      <td>1</td>\n",
       "      <td>1</td>\n",
       "      <td>8</td>\n",
       "      <td>2</td>\n",
       "      <td>2</td>\n",
       "      <td>1</td>\n",
       "      <td>1</td>\n",
       "    </tr>\n",
       "    <tr>\n",
       "      <th>2</th>\n",
       "      <td>1</td>\n",
       "      <td>1</td>\n",
       "      <td>1</td>\n",
       "      <td>1</td>\n",
       "      <td>1</td>\n",
       "      <td>1</td>\n",
       "      <td>1</td>\n",
       "      <td>3</td>\n",
       "      <td>6</td>\n",
       "      <td>4</td>\n",
       "      <td>...</td>\n",
       "      <td>24</td>\n",
       "      <td>1</td>\n",
       "      <td>2</td>\n",
       "      <td>1</td>\n",
       "      <td>1</td>\n",
       "      <td>8</td>\n",
       "      <td>2</td>\n",
       "      <td>2</td>\n",
       "      <td>1</td>\n",
       "      <td>1</td>\n",
       "    </tr>\n",
       "    <tr>\n",
       "      <th>3</th>\n",
       "      <td>1</td>\n",
       "      <td>1</td>\n",
       "      <td>1</td>\n",
       "      <td>1</td>\n",
       "      <td>1</td>\n",
       "      <td>1</td>\n",
       "      <td>1</td>\n",
       "      <td>3</td>\n",
       "      <td>6</td>\n",
       "      <td>4</td>\n",
       "      <td>...</td>\n",
       "      <td>24</td>\n",
       "      <td>1</td>\n",
       "      <td>2</td>\n",
       "      <td>1</td>\n",
       "      <td>1</td>\n",
       "      <td>8</td>\n",
       "      <td>2</td>\n",
       "      <td>2</td>\n",
       "      <td>1</td>\n",
       "      <td>1</td>\n",
       "    </tr>\n",
       "    <tr>\n",
       "      <th>4</th>\n",
       "      <td>1</td>\n",
       "      <td>1</td>\n",
       "      <td>1</td>\n",
       "      <td>1</td>\n",
       "      <td>1</td>\n",
       "      <td>1</td>\n",
       "      <td>1</td>\n",
       "      <td>3</td>\n",
       "      <td>6</td>\n",
       "      <td>4</td>\n",
       "      <td>...</td>\n",
       "      <td>24</td>\n",
       "      <td>1</td>\n",
       "      <td>2</td>\n",
       "      <td>1</td>\n",
       "      <td>1</td>\n",
       "      <td>8</td>\n",
       "      <td>2</td>\n",
       "      <td>2</td>\n",
       "      <td>1</td>\n",
       "      <td>1</td>\n",
       "    </tr>\n",
       "  </tbody>\n",
       "</table>\n",
       "<p>5 rows × 25 columns</p>\n",
       "</div>"
      ],
      "text/plain": [
       "   100yearsofassocham  asean2019  bharatkilaxmi  cab  cab2019  changewithin  \\\n",
       "0                   1          1              1    1        1             1   \n",
       "1                   1          1              1    1        1             1   \n",
       "2                   1          1              1    1        1             1   \n",
       "3                   1          1              1    1        1             1   \n",
       "4                   1          1              1    1        1             1   \n",
       "\n",
       "   chennaiconnect  constitutionday  diwali  gandhi150  ...  mannkibaat  \\\n",
       "0               1                3       6          4  ...          24   \n",
       "1               1                3       6          4  ...          24   \n",
       "2               1                3       6          4  ...          24   \n",
       "3               1                3       6          4  ...          24   \n",
       "4               1                3       6          4  ...          24   \n",
       "\n",
       "   nitilecture  parikshapecharcha2020  plogforcleanplanet  \\\n",
       "0            1                      2                   1   \n",
       "1            1                      2                   1   \n",
       "2            1                      2                   1   \n",
       "3            1                      2                   1   \n",
       "4            1                      2                   1   \n",
       "\n",
       "   plogforswachhbharat  republicday  republicsummit  singaporeindiahackathon  \\\n",
       "0                    1            8               2                        2   \n",
       "1                    1            8               2                        2   \n",
       "2                    1            8               2                        2   \n",
       "3                    1            8               2                        2   \n",
       "4                    1            8               2                        2   \n",
       "\n",
       "   solareclipse2019  thukmat  \n",
       "0                 1        1  \n",
       "1                 1        1  \n",
       "2                 1        1  \n",
       "3                 1        1  \n",
       "4                 1        1  \n",
       "\n",
       "[5 rows x 25 columns]"
      ]
     },
     "execution_count": 14,
     "metadata": {},
     "output_type": "execute_result"
    }
   ],
   "source": [
    "DTM=pd.DataFrame(X.toarray(),columns=count_vect.get_feature_names())\n",
    "DTM.head()"
   ]
  },
  {
   "cell_type": "markdown",
   "metadata": {},
   "source": [
    "## USING KMEANS ALGO. CLUSTER THE TWEETS INTO 4 GROUPS"
   ]
  },
  {
   "cell_type": "code",
   "execution_count": 15,
   "metadata": {},
   "outputs": [
    {
     "name": "stderr",
     "output_type": "stream",
     "text": [
      "C:\\Users\\Administrator\\AppData\\Roaming\\Python\\Python37\\site-packages\\sklearn\\cluster\\k_means_.py:972: ConvergenceWarning: Number of distinct clusters (1) found smaller than n_clusters (4). Possibly due to duplicate points in X.\n",
      "  return_n_iter=True)\n"
     ]
    }
   ],
   "source": [
    "kmeans=KMeans(n_clusters=4,random_state=0)\n",
    "y_kmeans=kmeans.fit_predict(DTM)"
   ]
  },
  {
   "cell_type": "code",
   "execution_count": 16,
   "metadata": {},
   "outputs": [
    {
     "data": {
      "text/html": [
       "<div>\n",
       "<style scoped>\n",
       "    .dataframe tbody tr th:only-of-type {\n",
       "        vertical-align: middle;\n",
       "    }\n",
       "\n",
       "    .dataframe tbody tr th {\n",
       "        vertical-align: top;\n",
       "    }\n",
       "\n",
       "    .dataframe thead th {\n",
       "        text-align: right;\n",
       "    }\n",
       "</style>\n",
       "<table border=\"1\" class=\"dataframe\">\n",
       "  <thead>\n",
       "    <tr style=\"text-align: right;\">\n",
       "      <th></th>\n",
       "      <th>100yearsofassocham</th>\n",
       "      <th>asean2019</th>\n",
       "      <th>bharatkilaxmi</th>\n",
       "      <th>cab</th>\n",
       "      <th>cab2019</th>\n",
       "      <th>changewithin</th>\n",
       "      <th>chennaiconnect</th>\n",
       "      <th>constitutionday</th>\n",
       "      <th>diwali</th>\n",
       "      <th>gandhi150</th>\n",
       "      <th>...</th>\n",
       "      <th>nitilecture</th>\n",
       "      <th>parikshapecharcha2020</th>\n",
       "      <th>plogforcleanplanet</th>\n",
       "      <th>plogforswachhbharat</th>\n",
       "      <th>republicday</th>\n",
       "      <th>republicsummit</th>\n",
       "      <th>singaporeindiahackathon</th>\n",
       "      <th>solareclipse2019</th>\n",
       "      <th>thukmat</th>\n",
       "      <th>cluster</th>\n",
       "    </tr>\n",
       "  </thead>\n",
       "  <tbody>\n",
       "    <tr>\n",
       "      <th>0</th>\n",
       "      <td>1</td>\n",
       "      <td>1</td>\n",
       "      <td>1</td>\n",
       "      <td>1</td>\n",
       "      <td>1</td>\n",
       "      <td>1</td>\n",
       "      <td>1</td>\n",
       "      <td>3</td>\n",
       "      <td>6</td>\n",
       "      <td>4</td>\n",
       "      <td>...</td>\n",
       "      <td>1</td>\n",
       "      <td>2</td>\n",
       "      <td>1</td>\n",
       "      <td>1</td>\n",
       "      <td>8</td>\n",
       "      <td>2</td>\n",
       "      <td>2</td>\n",
       "      <td>1</td>\n",
       "      <td>1</td>\n",
       "      <td>0</td>\n",
       "    </tr>\n",
       "    <tr>\n",
       "      <th>1</th>\n",
       "      <td>1</td>\n",
       "      <td>1</td>\n",
       "      <td>1</td>\n",
       "      <td>1</td>\n",
       "      <td>1</td>\n",
       "      <td>1</td>\n",
       "      <td>1</td>\n",
       "      <td>3</td>\n",
       "      <td>6</td>\n",
       "      <td>4</td>\n",
       "      <td>...</td>\n",
       "      <td>1</td>\n",
       "      <td>2</td>\n",
       "      <td>1</td>\n",
       "      <td>1</td>\n",
       "      <td>8</td>\n",
       "      <td>2</td>\n",
       "      <td>2</td>\n",
       "      <td>1</td>\n",
       "      <td>1</td>\n",
       "      <td>0</td>\n",
       "    </tr>\n",
       "    <tr>\n",
       "      <th>2</th>\n",
       "      <td>1</td>\n",
       "      <td>1</td>\n",
       "      <td>1</td>\n",
       "      <td>1</td>\n",
       "      <td>1</td>\n",
       "      <td>1</td>\n",
       "      <td>1</td>\n",
       "      <td>3</td>\n",
       "      <td>6</td>\n",
       "      <td>4</td>\n",
       "      <td>...</td>\n",
       "      <td>1</td>\n",
       "      <td>2</td>\n",
       "      <td>1</td>\n",
       "      <td>1</td>\n",
       "      <td>8</td>\n",
       "      <td>2</td>\n",
       "      <td>2</td>\n",
       "      <td>1</td>\n",
       "      <td>1</td>\n",
       "      <td>0</td>\n",
       "    </tr>\n",
       "    <tr>\n",
       "      <th>3</th>\n",
       "      <td>1</td>\n",
       "      <td>1</td>\n",
       "      <td>1</td>\n",
       "      <td>1</td>\n",
       "      <td>1</td>\n",
       "      <td>1</td>\n",
       "      <td>1</td>\n",
       "      <td>3</td>\n",
       "      <td>6</td>\n",
       "      <td>4</td>\n",
       "      <td>...</td>\n",
       "      <td>1</td>\n",
       "      <td>2</td>\n",
       "      <td>1</td>\n",
       "      <td>1</td>\n",
       "      <td>8</td>\n",
       "      <td>2</td>\n",
       "      <td>2</td>\n",
       "      <td>1</td>\n",
       "      <td>1</td>\n",
       "      <td>0</td>\n",
       "    </tr>\n",
       "    <tr>\n",
       "      <th>4</th>\n",
       "      <td>1</td>\n",
       "      <td>1</td>\n",
       "      <td>1</td>\n",
       "      <td>1</td>\n",
       "      <td>1</td>\n",
       "      <td>1</td>\n",
       "      <td>1</td>\n",
       "      <td>3</td>\n",
       "      <td>6</td>\n",
       "      <td>4</td>\n",
       "      <td>...</td>\n",
       "      <td>1</td>\n",
       "      <td>2</td>\n",
       "      <td>1</td>\n",
       "      <td>1</td>\n",
       "      <td>8</td>\n",
       "      <td>2</td>\n",
       "      <td>2</td>\n",
       "      <td>1</td>\n",
       "      <td>1</td>\n",
       "      <td>0</td>\n",
       "    </tr>\n",
       "  </tbody>\n",
       "</table>\n",
       "<p>5 rows × 26 columns</p>\n",
       "</div>"
      ],
      "text/plain": [
       "   100yearsofassocham  asean2019  bharatkilaxmi  cab  cab2019  changewithin  \\\n",
       "0                   1          1              1    1        1             1   \n",
       "1                   1          1              1    1        1             1   \n",
       "2                   1          1              1    1        1             1   \n",
       "3                   1          1              1    1        1             1   \n",
       "4                   1          1              1    1        1             1   \n",
       "\n",
       "   chennaiconnect  constitutionday  diwali  gandhi150  ...  nitilecture  \\\n",
       "0               1                3       6          4  ...            1   \n",
       "1               1                3       6          4  ...            1   \n",
       "2               1                3       6          4  ...            1   \n",
       "3               1                3       6          4  ...            1   \n",
       "4               1                3       6          4  ...            1   \n",
       "\n",
       "   parikshapecharcha2020  plogforcleanplanet  plogforswachhbharat  \\\n",
       "0                      2                   1                    1   \n",
       "1                      2                   1                    1   \n",
       "2                      2                   1                    1   \n",
       "3                      2                   1                    1   \n",
       "4                      2                   1                    1   \n",
       "\n",
       "   republicday  republicsummit  singaporeindiahackathon  solareclipse2019  \\\n",
       "0            8               2                        2                 1   \n",
       "1            8               2                        2                 1   \n",
       "2            8               2                        2                 1   \n",
       "3            8               2                        2                 1   \n",
       "4            8               2                        2                 1   \n",
       "\n",
       "   thukmat  cluster  \n",
       "0        1        0  \n",
       "1        1        0  \n",
       "2        1        0  \n",
       "3        1        0  \n",
       "4        1        0  \n",
       "\n",
       "[5 rows x 26 columns]"
      ]
     },
     "execution_count": 16,
     "metadata": {},
     "output_type": "execute_result"
    }
   ],
   "source": [
    "DTM['cluster']=y_kmeans\n",
    "DTM.head()"
   ]
  },
  {
   "cell_type": "code",
   "execution_count": 17,
   "metadata": {},
   "outputs": [
    {
     "data": {
      "text/plain": [
       "array([[ 1.,  1.,  1.,  1.,  1.,  1.,  1.,  3.,  6.,  4.,  2.,  1.,  4.,\n",
       "         1.,  1., 24.,  1.,  2.,  1.,  1.,  8.,  2.,  2.,  1.,  1.],\n",
       "       [ 1.,  1.,  1.,  1.,  1.,  1.,  1.,  3.,  6.,  4.,  2.,  1.,  4.,\n",
       "         1.,  1., 24.,  1.,  2.,  1.,  1.,  8.,  2.,  2.,  1.,  1.],\n",
       "       [ 1.,  1.,  1.,  1.,  1.,  1.,  1.,  3.,  6.,  4.,  2.,  1.,  4.,\n",
       "         1.,  1., 24.,  1.,  2.,  1.,  1.,  8.,  2.,  2.,  1.,  1.],\n",
       "       [ 1.,  1.,  1.,  1.,  1.,  1.,  1.,  3.,  6.,  4.,  2.,  1.,  4.,\n",
       "         1.,  1., 24.,  1.,  2.,  1.,  1.,  8.,  2.,  2.,  1.,  1.]])"
      ]
     },
     "execution_count": 17,
     "metadata": {},
     "output_type": "execute_result"
    }
   ],
   "source": [
    "KC=kmeans.cluster_centers_\n",
    "KC"
   ]
  },
  {
   "cell_type": "code",
   "execution_count": 18,
   "metadata": {},
   "outputs": [],
   "source": [
    "BOW=count_vect.get_feature_names()\n",
    "num_clusters=4"
   ]
  },
  {
   "cell_type": "code",
   "execution_count": 19,
   "metadata": {},
   "outputs": [],
   "source": [
    "pred_cluster=kmeans.predict(X)"
   ]
  },
  {
   "cell_type": "code",
   "execution_count": null,
   "metadata": {},
   "outputs": [],
   "source": []
  },
  {
   "cell_type": "code",
   "execution_count": 20,
   "metadata": {
    "scrolled": true
   },
   "outputs": [
    {
     "name": "stderr",
     "output_type": "stream",
     "text": [
      "C:\\ProgramData\\Anaconda3\\lib\\site-packages\\ipykernel_launcher.py:1: SettingWithCopyWarning: \n",
      "A value is trying to be set on a copy of a slice from a DataFrame.\n",
      "Try using .loc[row_indexer,col_indexer] = value instead\n",
      "\n",
      "See the caveats in the documentation: http://pandas.pydata.org/pandas-docs/stable/indexing.html#indexing-view-versus-copy\n",
      "  \"\"\"Entry point for launching an IPython kernel.\n"
     ]
    }
   ],
   "source": [
    "data_en['cluster_predicted']=pred_cluster"
   ]
  },
  {
   "cell_type": "code",
   "execution_count": 21,
   "metadata": {},
   "outputs": [
    {
     "data": {
      "text/plain": [
       "0    729\n",
       "Name: cluster_predicted, dtype: int64"
      ]
     },
     "execution_count": 21,
     "metadata": {},
     "output_type": "execute_result"
    }
   ],
   "source": [
    "data_en['cluster_predicted'].value_counts()"
   ]
  },
  {
   "cell_type": "code",
   "execution_count": 22,
   "metadata": {
    "scrolled": true
   },
   "outputs": [
    {
     "name": "stdout",
     "output_type": "stream",
     "text": [
      "Top term per cluster:\n",
      "Cluster : 0\n",
      "mannkibaat\n",
      "republicday\n",
      "diwali\n",
      "htls2019\n",
      "gandhi150\n",
      "Cluster : 1\n",
      "mannkibaat\n",
      "republicday\n",
      "diwali\n",
      "htls2019\n",
      "gandhi150\n",
      "Cluster : 2\n",
      "mannkibaat\n",
      "republicday\n",
      "diwali\n",
      "htls2019\n",
      "gandhi150\n",
      "Cluster : 3\n",
      "mannkibaat\n",
      "republicday\n",
      "diwali\n",
      "htls2019\n",
      "gandhi150\n"
     ]
    }
   ],
   "source": [
    "print(\"Top term per cluster:\")\n",
    "## Get the index of the cluster centers in revrse order for every cluster \n",
    "## step1: \n",
    "order_centroids_arg=KC.argsort()[:,::-1]\n",
    "## step2:\n",
    "for i in range(num_clusters):\n",
    "    print(\"Cluster :\",i)\n",
    "    for ind in order_centroids_arg[i,:5]:\n",
    "        ## To get the dominating term per cluster\n",
    "        print(BOW[ind])"
   ]
  },
  {
   "cell_type": "code",
   "execution_count": 23,
   "metadata": {},
   "outputs": [
    {
     "data": {
      "text/html": [
       "<div>\n",
       "<style scoped>\n",
       "    .dataframe tbody tr th:only-of-type {\n",
       "        vertical-align: middle;\n",
       "    }\n",
       "\n",
       "    .dataframe tbody tr th {\n",
       "        vertical-align: top;\n",
       "    }\n",
       "\n",
       "    .dataframe thead th {\n",
       "        text-align: right;\n",
       "    }\n",
       "</style>\n",
       "<table border=\"1\" class=\"dataframe\">\n",
       "  <thead>\n",
       "    <tr style=\"text-align: right;\">\n",
       "      <th></th>\n",
       "      <th>Text</th>\n",
       "      <th>Lang</th>\n",
       "      <th>Source</th>\n",
       "      <th>Time</th>\n",
       "      <th>Retweets</th>\n",
       "      <th>cleaned_text</th>\n",
       "      <th>cluster_predicted</th>\n",
       "    </tr>\n",
       "  </thead>\n",
       "  <tbody>\n",
       "    <tr>\n",
       "      <th>0</th>\n",
       "      <td>Addressed the Global Potato Conclave at Gandhi...</td>\n",
       "      <td>en</td>\n",
       "      <td>Twitter for iPhone</td>\n",
       "      <td>1580222363000</td>\n",
       "      <td>2388</td>\n",
       "      <td>#republicday #parikshapecharcha2020 #parikshap...</td>\n",
       "      <td>0</td>\n",
       "    </tr>\n",
       "    <tr>\n",
       "      <th>10</th>\n",
       "      <td>Extremely touched by the lovely #RepublicDay w...</td>\n",
       "      <td>en</td>\n",
       "      <td>Twitter Web App</td>\n",
       "      <td>1580125780000</td>\n",
       "      <td>2591</td>\n",
       "      <td>#republicday #parikshapecharcha2020 #parikshap...</td>\n",
       "      <td>0</td>\n",
       "    </tr>\n",
       "    <tr>\n",
       "      <th>100</th>\n",
       "      <td>Tributes to the great Balasaheb Thackeray on h...</td>\n",
       "      <td>en</td>\n",
       "      <td>Twitter for iPhone</td>\n",
       "      <td>1579748075000</td>\n",
       "      <td>8817</td>\n",
       "      <td>#republicday #parikshapecharcha2020 #parikshap...</td>\n",
       "      <td>0</td>\n",
       "    </tr>\n",
       "    <tr>\n",
       "      <th>101</th>\n",
       "      <td>India will always remain grateful to Netaji Su...</td>\n",
       "      <td>en</td>\n",
       "      <td>Twitter Media Studio</td>\n",
       "      <td>1579747999000</td>\n",
       "      <td>9996</td>\n",
       "      <td>#republicday #parikshapecharcha2020 #parikshap...</td>\n",
       "      <td>0</td>\n",
       "    </tr>\n",
       "    <tr>\n",
       "      <th>102</th>\n",
       "      <td>On 23rd January 1897, Janakinath Bose wrote in...</td>\n",
       "      <td>en</td>\n",
       "      <td>Twitter for iPhone</td>\n",
       "      <td>1579747828000</td>\n",
       "      <td>8500</td>\n",
       "      <td>#republicday #parikshapecharcha2020 #parikshap...</td>\n",
       "      <td>0</td>\n",
       "    </tr>\n",
       "  </tbody>\n",
       "</table>\n",
       "</div>"
      ],
      "text/plain": [
       "                                                  Text Lang  \\\n",
       "0    Addressed the Global Potato Conclave at Gandhi...   en   \n",
       "10   Extremely touched by the lovely #RepublicDay w...   en   \n",
       "100  Tributes to the great Balasaheb Thackeray on h...   en   \n",
       "101  India will always remain grateful to Netaji Su...   en   \n",
       "102  On 23rd January 1897, Janakinath Bose wrote in...   en   \n",
       "\n",
       "                   Source           Time  Retweets  \\\n",
       "0      Twitter for iPhone  1580222363000      2388   \n",
       "10        Twitter Web App  1580125780000      2591   \n",
       "100    Twitter for iPhone  1579748075000      8817   \n",
       "101  Twitter Media Studio  1579747999000      9996   \n",
       "102    Twitter for iPhone  1579747828000      8500   \n",
       "\n",
       "                                          cleaned_text  cluster_predicted  \n",
       "0    #republicday #parikshapecharcha2020 #parikshap...                  0  \n",
       "10   #republicday #parikshapecharcha2020 #parikshap...                  0  \n",
       "100  #republicday #parikshapecharcha2020 #parikshap...                  0  \n",
       "101  #republicday #parikshapecharcha2020 #parikshap...                  0  \n",
       "102  #republicday #parikshapecharcha2020 #parikshap...                  0  "
      ]
     },
     "execution_count": 23,
     "metadata": {},
     "output_type": "execute_result"
    }
   ],
   "source": [
    "data_en.head()"
   ]
  },
  {
   "cell_type": "markdown",
   "metadata": {},
   "source": [
    "## CREATE WORD CLOUD FOR EACH GROUP"
   ]
  },
  {
   "cell_type": "code",
   "execution_count": 29,
   "metadata": {},
   "outputs": [],
   "source": [
    "from wordcloud import WordCloud"
   ]
  },
  {
   "cell_type": "code",
   "execution_count": 38,
   "metadata": {},
   "outputs": [
    {
     "data": {
      "image/png": "[encoded data removed]",
      "text/plain": [
       "<Figure size 432x288 with 1 Axes>"
      ]
     },
     "metadata": {
      "needs_background": "light"
     },
     "output_type": "display_data"
    }
   ],
   "source": [
    "df1=data_en[data_en['cluster_predicted']==0]\n",
    "\n",
    "tweet_combined1=\" \".join(df1.cleaned_text.values)\n",
    "word_cloud=WordCloud().generate(tweet_combined1)\n",
    "plt.figure()\n",
    "plt.imshow(word_cloud)\n",
    "plt.show()"
   ]
  },
  {
   "cell_type": "code",
   "execution_count": null,
   "metadata": {},
   "outputs": [],
   "source": []
  }
 ],
 "metadata": {
  "kernelspec": {
   "display_name": "Python 3",
   "language": "python",
   "name": "python3"
  },
  "language_info": {
   "codemirror_mode": {
    "name": "ipython",
    "version": 3
   },
   "file_extension": ".py",
   "mimetype": "text/x-python",
   "name": "python",
   "nbconvert_exporter": "python",
   "pygments_lexer": "ipython3",
   "version": "3.7.3"
  }
 },
 "nbformat": 4,
 "nbformat_minor": 2
}
